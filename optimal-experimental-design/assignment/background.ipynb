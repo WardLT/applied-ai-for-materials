{
 "cells": [
  {
   "cell_type": "markdown",
   "id": "tender-astrology",
   "metadata": {},
   "source": [
    "# Exploring Conformation Space\n",
    "This notebook illustrates the basis of exploring the space of possible conformers of a molecule.\n",
    "\n",
    "Conformers are different local minima within the space of possible arrangements of a molecule that are often defined by rotating bonds within the structure.\n",
    "These rotations are created by changing the [\"dihedral angle\"](https://en.wikipedia.org/wiki/Dihedral_angle) formed around a bond of interest.\n",
    "Here, we show how to sweep over possible conformers using some tools built atop the Atomic Simulation Environment (ase)."
   ]
  },
  {
   "cell_type": "code",
   "execution_count": 1,
   "id": "continued-marijuana",
   "metadata": {},
   "outputs": [
    {
     "name": "stderr",
     "output_type": "stream",
     "text": [
      "/home/wardlt/miniconda3/envs/applied-ai/lib/python3.8/site-packages/openbabel/__init__.py:14: UserWarning: \"import openbabel\" is deprecated, instead use \"from openbabel import openbabel\"\n",
      "  warnings.warn('\"import openbabel\" is deprecated, instead use \"from openbabel import openbabel\"')\n",
      "/home/wardlt/miniconda3/envs/applied-ai/lib/python3.8/site-packages/torchani/aev.py:16: UserWarning: cuaev not installed\n",
      "  warnings.warn(\"cuaev not installed\")\n",
      "/home/wardlt/miniconda3/envs/applied-ai/lib/python3.8/site-packages/torch/functional.py:1069: UserWarning: torch.meshgrid: in an upcoming release, it will be required to pass the indexing argument. (Triggered internally at  /home/conda/feedstock_root/build_artifacts/pytorch-recipe_1640880797588/work/aten/src/ATen/native/TensorShape.cpp:2156.)\n",
      "  return _VF.cartesian_prod(tensors)  # type: ignore[attr-defined]\n"
     ]
    },
    {
     "name": "stdout",
     "output_type": "stream",
     "text": [
      "/home/wardlt/miniconda3/envs/applied-ai/lib/python3.8/site-packages/torchani/resources/\n"
     ]
    }
   ],
   "source": [
    "%matplotlib inline\n",
    "from matplotlib import pyplot as plt\n",
    "from confutils import get_initial_structure, get_dihedral_info, set_dihedrals_and_relax, relax_structure\n",
    "from tqdm import tqdm\n",
    "import pickle as pkl\n",
    "import pandas as pd\n",
    "import numpy as np"
   ]
  },
  {
   "cell_type": "markdown",
   "id": "breathing-message",
   "metadata": {},
   "source": [
    "## Example 1: Rotating the central bond in *n*-butane\n",
    "*n*-butane is a connected chain of four carbons that forms different conformers as you rotate around the bond in the center.\n",
    "\n",
    "[![butane](https://upload.wikimedia.org/wikipedia/commons/thumb/4/41/Dihedral_angles_of_Butane.svg/281px-Dihedral_angles_of_Butane.svg.png)](https://en.wikipedia.org/wiki/Dihedral_angle#In_stereochemistry)\n",
    "\n",
    "Here, we demonstrate computing energy as we rotate that bond.\n",
    "\n",
    "The first step is to generate an initial structure and the bonding graph"
   ]
  },
  {
   "cell_type": "code",
   "execution_count": 2,
   "id": "powerful-spokesman",
   "metadata": {},
   "outputs": [],
   "source": [
    "atoms, g = get_initial_structure('CCCC')"
   ]
  },
  {
   "cell_type": "code",
   "execution_count": 3,
   "id": "lasting-offering",
   "metadata": {},
   "outputs": [
    {
     "data": {
      "text/plain": [
       "Atoms(symbols='C4H10', pbc=False)"
      ]
     },
     "execution_count": 3,
     "metadata": {},
     "output_type": "execute_result"
    }
   ],
   "source": [
    "atoms  # A description of the 3D structure"
   ]
  },
  {
   "cell_type": "code",
   "execution_count": 4,
   "id": "agricultural-question",
   "metadata": {},
   "outputs": [
    {
     "data": {
      "text/plain": [
       "<networkx.classes.graph.Graph at 0x7f496d05dbe0>"
      ]
     },
     "execution_count": 4,
     "metadata": {},
     "output_type": "execute_result"
    }
   ],
   "source": [
    "g  # A description of how atoms are bonded"
   ]
  },
  {
   "cell_type": "markdown",
   "id": "responsible-abuse",
   "metadata": {},
   "source": [
    "For reference, we compute the energy of the initial molecule by minimizing the energy of the structure through moving atomic positions (i.e., \"relaxing\")"
   ]
  },
  {
   "cell_type": "code",
   "execution_count": 5,
   "id": "sharing-tunnel",
   "metadata": {},
   "outputs": [
    {
     "name": "stderr",
     "output_type": "stream",
     "text": [
      "/home/wardlt/miniconda3/envs/applied-ai/lib/python3.8/site-packages/torchani/ase.py:53: UserWarning: Creating a tensor from a list of numpy.ndarrays is extremely slow. Please consider converting the list to a single numpy.ndarray with numpy.array() before converting to a tensor. (Triggered internally at  /home/conda/feedstock_root/build_artifacts/pytorch-recipe_1640880797588/work/torch/csrc/utils/tensor_new.cpp:198.)\n",
      "  cell = torch.tensor(self.atoms.get_cell(complete=True),\n",
      "/home/wardlt/miniconda3/envs/applied-ai/lib/python3.8/site-packages/torchani/aev.py:249: UserWarning: __floordiv__ is deprecated, and its behavior will change in a future version of pytorch. It currently rounds toward 0 (like the 'trunc' function NOT 'floor'). This results in incorrect rounding for negative values. To keep the current behavior, use torch.div(a, b, rounding_mode='trunc'), or for actual floor division, use torch.div(a, b, rounding_mode='floor').\n",
      "  pair_sizes = counts * (counts - 1) // 2\n"
     ]
    },
    {
     "name": "stdout",
     "output_type": "stream",
     "text": [
      "Energy of the initial geometry: -4310.58 Ha\n",
      "CPU times: user 2.65 s, sys: 0 ns, total: 2.65 s\n",
      "Wall time: 225 ms\n"
     ]
    }
   ],
   "source": [
    "%%time\n",
    "start_energy = relax_structure(atoms)\n",
    "print(f'Energy of the initial geometry: {start_energy:.2f} Ha')"
   ]
  },
  {
   "cell_type": "markdown",
   "id": "plastic-hydrogen",
   "metadata": {},
   "source": [
    "Now, we determine information about the central dihedral. We want to know which four atoms form the dihedral angle (two of the bond, two on each side of the bond) and which atoms need to be moved together as we rotate the bond.\n",
    "\n",
    "The [utility library](./confutils.py) provided with this notebook has a function that uses the bonding graph to pick the other two atoms to form the dihedral for a bond (ideally from the backbone atoms) and then identify the atoms that must be rotated together."
   ]
  },
  {
   "cell_type": "code",
   "execution_count": 6,
   "id": "classified-master",
   "metadata": {},
   "outputs": [
    {
     "data": {
      "text/plain": [
       "DihedralInfo(chain=[0, 1, 2, 3], group={2, 3, 9, 10, 11, 12, 13})"
      ]
     },
     "execution_count": 6,
     "metadata": {},
     "output_type": "execute_result"
    }
   ],
   "source": [
    "dh1 = get_dihedral_info(g, [1, 2], backbone_atoms=[0, 1, 2, 3])\n",
    "dh1"
   ]
  },
  {
   "cell_type": "markdown",
   "id": "unnecessary-century",
   "metadata": {},
   "source": [
    "We denote the atoms forming the dihedral the \"chain\" and those that must be rotated together the \"group\""
   ]
  },
  {
   "cell_type": "code",
   "execution_count": 7,
   "id": "married-proposition",
   "metadata": {},
   "outputs": [
    {
     "name": "stdout",
     "output_type": "stream",
     "text": [
      "Starting dihedral:  180.00\n"
     ]
    }
   ],
   "source": [
    "print(f'Starting dihedral: {atoms.get_dihedral(*dh1.chain): .2f}')"
   ]
  },
  {
   "cell_type": "markdown",
   "id": "moral-hobby",
   "metadata": {},
   "source": [
    "We can see that the molecule is initially in the \"anti\" configuration.\n",
    "\n",
    "Next step, we scan over many dihedral angles using the `set_dihedrals_and_relax`. This function rotates the target dihedral(s), fixes the angle and the relaxes all other degrees of freedom of the molecule. For example, it allows the hydrogens in butane to move out of the way as we move the backbone."
   ]
  },
  {
   "cell_type": "code",
   "execution_count": 8,
   "id": "hungarian-symposium",
   "metadata": {},
   "outputs": [
    {
     "name": "stderr",
     "output_type": "stream",
     "text": [
      "100%|████████████████████████████████████████████████████████████████████████████████████████████████████████████████████████████████████████████████████████████████████████████| 33/33 [00:13<00:00,  2.36it/s]\n"
     ]
    }
   ],
   "source": [
    "phis = np.linspace(0, 360, 33)\n",
    "energies = np.array([\n",
    "    set_dihedrals_and_relax(atoms, [(p, dh1)]) - start_energy\n",
    "    for p in tqdm(phis)\n",
    "])"
   ]
  },
  {
   "cell_type": "code",
   "execution_count": 9,
   "id": "dietary-worse",
   "metadata": {},
   "outputs": [
    {
     "data": {
      "text/plain": [
       "Text(0, 0.5, '$\\\\Delta E$')"
      ]
     },
     "execution_count": 9,
     "metadata": {},
     "output_type": "execute_result"
    },
    {
     "data": {
      "image/png": "[encoded data removed]",
      "text/plain": [
       "<Figure size 432x288 with 1 Axes>"
      ]
     },
     "metadata": {
      "needs_background": "light"
     },
     "output_type": "display_data"
    }
   ],
   "source": [
    "fig, ax = plt.subplots()\n",
    "\n",
    "ax.plot(phis, energies, '--o')\n",
    "\n",
    "ax.set_xlabel('$\\\\phi$')\n",
    "ax.set_ylabel('$\\Delta E$')"
   ]
  },
  {
   "cell_type": "markdown",
   "id": "beautiful-coordinator",
   "metadata": {},
   "source": [
    "You can see that we now recreate the three local minima shown in the picture above: 1 anti (180) and 2 gauche configurations (60, 300)"
   ]
  },
  {
   "cell_type": "markdown",
   "id": "worst-focus",
   "metadata": {},
   "source": [
    "## Example 2: Rotating two bonds in *n*-butane\n",
    "We can also rotate two bonds simultaneously. We are going to pick the central and an end carbon in *n*-butane to demonstrate.\n",
    "\n",
    "We first generate the dihedral information for an end bond"
   ]
  },
  {
   "cell_type": "code",
   "execution_count": 10,
   "id": "offensive-farming",
   "metadata": {},
   "outputs": [
    {
     "data": {
      "text/plain": [
       "DihedralInfo(chain=[1, 2, 3, 11], group={11, 3, 12, 13})"
      ]
     },
     "execution_count": 10,
     "metadata": {},
     "output_type": "execute_result"
    }
   ],
   "source": [
    "dh2 = get_dihedral_info(g, [2, 3], backbone_atoms=[0, 1, 2, 3])\n",
    "dh2"
   ]
  },
  {
   "cell_type": "markdown",
   "id": "ideal-model",
   "metadata": {},
   "source": [
    "Now, we define a grid over which to iterate using a \"mesh grid.\" The [`np.meshgrid`](https://numpy.org/doc/stable/reference/generated/numpy.meshgrid.html) creates a multi-dimensional grid where we vary over all combinations of levels in multiple lists."
   ]
  },
  {
   "cell_type": "code",
   "execution_count": 11,
   "id": "marked-cedar",
   "metadata": {},
   "outputs": [],
   "source": [
    "phis = np.linspace(0, 360, 33)\n",
    "phis1, phis2 = np.meshgrid(phis, phis)"
   ]
  },
  {
   "cell_type": "code",
   "execution_count": 12,
   "id": "conceptual-atlas",
   "metadata": {},
   "outputs": [
    {
     "name": "stdout",
     "output_type": "stream",
     "text": [
      "First 10 dihedrals for the central bond: [  0.    11.25  22.5   33.75  45.    56.25  67.5   78.75  90.   101.25]\n",
      "First 10 dihedrals for the second bond: [0. 0. 0. 0. 0. 0. 0. 0. 0. 0.]\n"
     ]
    }
   ],
   "source": [
    "print(f'First 10 dihedrals for the central bond:', phis1.ravel()[:10])\n",
    "print(f'First 10 dihedrals for the second bond:', phis2.ravel()[:10])"
   ]
  },
  {
   "cell_type": "markdown",
   "id": "wrong-journalist",
   "metadata": {},
   "source": [
    "`np.meshgrid` returns a multi-dimensional array for each coordinate, which we flatten to 1D arrays with `ravel`.\n",
    "\n",
    "Raster over all of the dihedral angles (this will take 10s of minutes)"
   ]
  },
  {
   "cell_type": "code",
   "execution_count": 13,
   "id": "alike-syracuse",
   "metadata": {},
   "outputs": [
    {
     "name": "stderr",
     "output_type": "stream",
     "text": [
      "  0%|                                                                                                                                                                                   | 0/1089 [00:00<?, ?it/s]/home/wardlt/miniconda3/envs/applied-ai/lib/python3.8/site-packages/torchani/aev.py:249: UserWarning: __floordiv__ is deprecated, and its behavior will change in a future version of pytorch. It currently rounds toward 0 (like the 'trunc' function NOT 'floor'). This results in incorrect rounding for negative values. To keep the current behavior, use torch.div(a, b, rounding_mode='trunc'), or for actual floor division, use torch.div(a, b, rounding_mode='floor').\n",
      "  pair_sizes = counts * (counts - 1) // 2\n",
      "100%|████████████████████████████████████████████████████████████████████████████████████████████████████████████████████████████████████████████████████████████████████████| 1089/1089 [09:54<00:00,  1.83it/s]\n"
     ]
    }
   ],
   "source": [
    "energies = np.array([\n",
    "    set_dihedrals_and_relax(atoms, [(p1, dh1), (p2, dh2)]) - start_energy\n",
    "    for p1, p2 in tqdm(zip(phis1.ravel(), phis2.ravel()), total=phis1.size)\n",
    "])"
   ]
  },
  {
   "cell_type": "markdown",
   "id": "linear-confidentiality",
   "metadata": {},
   "source": [
    "Plot the \"potential energy surface\" defined by all rotations of each of these bonds"
   ]
  },
  {
   "cell_type": "code",
   "execution_count": 14,
   "id": "reliable-richards",
   "metadata": {},
   "outputs": [
    {
     "data": {
      "text/plain": [
       "<matplotlib.colorbar.Colorbar at 0x7f496ccd24f0>"
      ]
     },
     "execution_count": 14,
     "metadata": {},
     "output_type": "execute_result"
    },
    {
     "data": {
      "image/png": "[encoded data removed]",
      "text/plain": [
       "<Figure size 432x288 with 2 Axes>"
      ]
     },
     "metadata": {
      "needs_background": "light"
     },
     "output_type": "display_data"
    }
   ],
   "source": [
    "fig, ax = plt.subplots()\n",
    "\n",
    "cf = ax.contourf(phis1, phis2, energies.reshape(phis1.shape))\n",
    "\n",
    "ax.set_xlabel('$\\\\phi_1$')\n",
    "ax.set_ylabel('$\\\\phi_2$')\n",
    "\n",
    "fig.colorbar(cf, label='Energy')"
   ]
  },
  {
   "cell_type": "markdown",
   "id": "restricted-carnival",
   "metadata": {},
   "source": [
    "You can see that we now have 9 minima. The lowest one is the original configuration ($\\phi_1 = \\phi_2 = 180^{\\circ}$)"
   ]
  },
  {
   "cell_type": "code",
   "execution_count": 15,
   "id": "novel-combat",
   "metadata": {},
   "outputs": [],
   "source": [
    "pd.DataFrame({'phi1': phis1.ravel(), 'phi2': phis2.ravel(), 'energy': energies}).to_csv('data/n-butane.csv', index=False)"
   ]
  },
  {
   "cell_type": "markdown",
   "id": "dynamic-terrorist",
   "metadata": {},
   "source": [
    "## Example 3: Cysteine Conformers\n",
    "The cysteine molecule has 5 rotatable bonds. For this example, we configure a system to express the energy as a function of each bond\n",
    "\n",
    "[![cysteine](https://pubs.acs.org/na101/home/literatum/publisher/achs/journals/content/jctcce/2021/jctcce.2021.17.issue-3/acs.jctc.0c00648/20210421/images/medium/ct0c00648_0002.gif)](https://pubs.acs.org/doi/full/10.1021/acs.jctc.0c00648)\n",
    "\n",
    "(Figure from [Fang et al. (2021)](https://pubs.acs.org/doi/full/10.1021/acs.jctc.0c00648))\n",
    "\n",
    "Step 1 is to generate the initial geometry"
   ]
  },
  {
   "cell_type": "code",
   "execution_count": 16,
   "id": "broadband-committee",
   "metadata": {},
   "outputs": [],
   "source": [
    "c_atoms, c_bonds = get_initial_structure('C([C@@H](C(=O)O)N)S')"
   ]
  },
  {
   "cell_type": "markdown",
   "id": "pending-duncan",
   "metadata": {},
   "source": [
    "Step 2 is to define the dihedrals, which we can determine from the graph and the SMILES string.\n",
    "\n",
    "The backbone atoms are 3 carbon atoms, the nitrogen, sulfer and the oxygen bonded with the hydrogen. Looking at the order they are listed in the string, we can write down their indices: `[0, 1, 3, 5, 6, 7]`\n",
    "\n",
    "- `d1` is between the central carbon (second atom) and the acid carbon (third atom): [1, 2]\n",
    "- `d2` is between the first carbon (first atom) and the central carbon: [0, 1]\n",
    "- `d3` is between the central carbon and nitrogen: [1, 5]\n",
    "- `d4` is between the acid carbon and the last oxygen: [2, 4]\n",
    "- `d5` is between the first carbon and the sulfer: [0, 6]"
   ]
  },
  {
   "cell_type": "code",
   "execution_count": 17,
   "id": "normal-hurricane",
   "metadata": {},
   "outputs": [],
   "source": [
    "backbone = [0, 1, 2, 3, 5, 6]"
   ]
  },
  {
   "cell_type": "code",
   "execution_count": 18,
   "id": "other-performer",
   "metadata": {},
   "outputs": [
    {
     "data": {
      "text/plain": [
       "DihedralInfo(chain=[0, 1, 2, 3], group={10, 2, 3, 4})"
      ]
     },
     "execution_count": 18,
     "metadata": {},
     "output_type": "execute_result"
    }
   ],
   "source": [
    "d1 = get_dihedral_info(c_bonds, [1, 2], backbone_atoms=backbone)\n",
    "d1"
   ]
  },
  {
   "cell_type": "code",
   "execution_count": 19,
   "id": "bottom-instrumentation",
   "metadata": {},
   "outputs": [],
   "source": [
    "d2 = get_dihedral_info(c_bonds, [1, 0], backbone_atoms=backbone)"
   ]
  },
  {
   "cell_type": "code",
   "execution_count": 20,
   "id": "drawn-singing",
   "metadata": {},
   "outputs": [],
   "source": [
    "d3 = get_dihedral_info(c_bonds, [1, 5], backbone_atoms=backbone)"
   ]
  },
  {
   "cell_type": "code",
   "execution_count": 21,
   "id": "colored-excellence",
   "metadata": {},
   "outputs": [],
   "source": [
    "d4 = get_dihedral_info(c_bonds, [2, 4], backbone_atoms=backbone)"
   ]
  },
  {
   "cell_type": "code",
   "execution_count": 22,
   "id": "liberal-fancy",
   "metadata": {},
   "outputs": [],
   "source": [
    "d5 = get_dihedral_info(c_bonds, [0, 6], backbone_atoms=backbone)"
   ]
  },
  {
   "cell_type": "markdown",
   "id": "polished-buying",
   "metadata": {},
   "source": [
    "Now that we have all of these, we can compute the energy of many randomly-selected conformers"
   ]
  },
  {
   "cell_type": "code",
   "execution_count": 23,
   "id": "broadband-worship",
   "metadata": {},
   "outputs": [
    {
     "name": "stdout",
     "output_type": "stream",
     "text": [
      "Initial energy for cysteine: -19641.8175\n"
     ]
    }
   ],
   "source": [
    "c_start_energy = relax_structure(c_atoms)\n",
    "print(f'Initial energy for cysteine: {c_start_energy: .4f}')"
   ]
  },
  {
   "cell_type": "code",
   "execution_count": 24,
   "id": "swedish-vegetable",
   "metadata": {},
   "outputs": [],
   "source": [
    "phis = np.random.uniform(0, 360, size=(64, 5))  # Random confomers"
   ]
  },
  {
   "cell_type": "code",
   "execution_count": 25,
   "id": "negative-event",
   "metadata": {},
   "outputs": [
    {
     "name": "stderr",
     "output_type": "stream",
     "text": [
      "100%|████████████████████████████████████████████████████████████████████████████████████████████████████████████████████████████████████████████████████████████████████████████| 64/64 [01:25<00:00,  1.33s/it]\n"
     ]
    }
   ],
   "source": [
    "energies = [\n",
    "    set_dihedrals_and_relax(c_atoms.copy(), list(zip(phi, [d1, d2, d3, d4, d5]))) - c_start_energy\n",
    "    for phi in tqdm(phis)\n",
    "]"
   ]
  },
  {
   "cell_type": "markdown",
   "id": "moved-router",
   "metadata": {},
   "source": [
    "Make a histogram"
   ]
  },
  {
   "cell_type": "code",
   "execution_count": 26,
   "id": "simplified-access",
   "metadata": {},
   "outputs": [
    {
     "data": {
      "text/plain": [
       "Text(0, 0.5, 'Frequency')"
      ]
     },
     "execution_count": 26,
     "metadata": {},
     "output_type": "execute_result"
    },
    {
     "data": {
      "image/png": "[encoded data removed]",
      "text/plain": [
       "<Figure size 432x288 with 1 Axes>"
      ]
     },
     "metadata": {
      "needs_background": "light"
     },
     "output_type": "display_data"
    }
   ],
   "source": [
    "fig, ax = plt.subplots()\n",
    "\n",
    "ax.hist(energies)\n",
    "\n",
    "ax.set_xlabel('Energy (Ha)')\n",
    "ax.set_ylabel('Frequency')"
   ]
  },
  {
   "cell_type": "markdown",
   "id": "hearing-trauma",
   "metadata": {},
   "source": [
    "Save all the contents to disk for use in the homework"
   ]
  },
  {
   "cell_type": "code",
   "execution_count": 27,
   "id": "numerical-financing",
   "metadata": {},
   "outputs": [],
   "source": [
    "c_atoms.set_calculator()  # Remove the calculator, so the model can save"
   ]
  },
  {
   "cell_type": "code",
   "execution_count": 28,
   "id": "compound-romance",
   "metadata": {},
   "outputs": [],
   "source": [
    "with open('data/cysteine-atoms.pkl', 'wb') as fp:\n",
    "    pkl.dump(c_atoms, fp)"
   ]
  },
  {
   "cell_type": "code",
   "execution_count": 29,
   "id": "colonial-firmware",
   "metadata": {},
   "outputs": [],
   "source": [
    "with open('data/dihedrals.pkl', 'wb') as fp:\n",
    "    pkl.dump([d1, d2, d3, d4, d5], fp)"
   ]
  },
  {
   "cell_type": "code",
   "execution_count": null,
   "id": "fitting-magnet",
   "metadata": {},
   "outputs": [],
   "source": []
  }
 ],
 "metadata": {
  "kernelspec": {
   "display_name": "Python 3 (ipykernel)",
   "language": "python",
   "name": "python3"
  },
  "language_info": {
   "codemirror_mode": {
    "name": "ipython",
    "version": 3
   },
   "file_extension": ".py",
   "mimetype": "text/x-python",
   "name": "python",
   "nbconvert_exporter": "python",
   "pygments_lexer": "ipython3",
   "version": "3.8.12"
  }
 },
 "nbformat": 4,
 "nbformat_minor": 5
}
