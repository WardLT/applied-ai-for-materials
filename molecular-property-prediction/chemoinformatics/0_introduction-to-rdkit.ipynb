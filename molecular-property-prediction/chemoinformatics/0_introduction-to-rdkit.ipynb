{
 "cells": [
  {
   "cell_type": "markdown",
   "metadata": {},
   "source": [
    "# Working with Chemical Data\n",
    "As we discussed in our lecture, using computers to manipulate data about molecules goes [back to the infancy of modern computing.](https://pubs.acs.org/doi/abs/10.1021/cen-v030n034.p3523)\n",
    "This notebook is designed to show you that tools to use computers have, indeed, evolved rapidly alongside computing.\n",
    "\n",
    "In particular, we focus on RDKit - a library for chemoinformatics that works well with Python."
   ]
  },
  {
   "cell_type": "code",
   "execution_count": 1,
   "metadata": {},
   "outputs": [],
   "source": [
    "%matplotlib inline\n",
    "from matplotlib import pyplot as plt\n",
    "from rdkit import Chem  # Common functionality from RDKit is available in the Chem module\n",
    "from rdkit.Chem import AllChem  # Most of the other functions are in AllChem and other modules\n",
    "import pandas as pd\n",
    "import numpy as np\n",
    "import gzip\n",
    "import json"
   ]
  },
  {
   "cell_type": "markdown",
   "metadata": {},
   "source": [
    "## Parsing Chemical Data\n",
    "The data for our lesson is stored as line-delimited JSON, where each individual record is a dictionary that contains some information about a molecule and a name that captures the molecular structure"
   ]
  },
  {
   "cell_type": "markdown",
   "metadata": {},
   "source": [
    "### Part 1: Getting the Data off Disk\n",
    "We first solve a problem that has nothing to do with chemistry: reading a table into Python."
   ]
  },
  {
   "cell_type": "code",
   "execution_count": 3,
   "metadata": {},
   "outputs": [
    {
     "name": "stdout",
     "output_type": "stream",
     "text": [
      "{\"A\":2.5832,\"B\":1.30797,\"C\":0.93888,\"R2\":1313.6519,\"alpha\":89.34,\"atomic_charges\":[-0.499654,0.225168,0.200368,-0.291577,-0.21091,-0.28294,-0.105237,-0.239277,-0.322535,0.124266,0.121383,0.129916,0.102653,0.100871,0.096362,0.101769,0.097331,0.102152,0.095926,0.11547,0.111787,0.226708],\"bandgap\":0.2487,\"cv\":34.347,\"filename\":\"dsgdb9nsd_073931.xyz\",\"g\":-367.242047,\"g4mp2_0k\":-366.761358,\"g4mp2_atom\":-3.347687,\"g4mp2_energy\":-366.752131,\"g4mp2_enthalpy\":-366.751186,\"g4mp2_free\":-366.795572,\"g4mp2_hf298\":33.0693,\"g4mp2_zpe\":0.192623,\"h\":-367.197822,\"homo\":-0.2266,\"inchi_0\":\"InChI=1S\\/C8H13N\\/c1-6-3-2-4-7(6)8-5-9-8\\/h8-9H,2-5H2,1H3\",\"inchi_1\":\"InChI=1S\\/C8H13N\\/c1-6-3-2-4-7(6)8-5-9-8\\/h8-9H,2-5H2,1H3\\/t8-\\/m1\\/s1\",\"index\":73931,\"lumo\":0.0221,\"mu\":1.8965,\"n_atom\":22,\"n_electrons\":68,\"n_heavy_atoms\":9,\"smiles_0\":\"CC1=C(CCC1)C1CN1\",\"smiles_1\":\"CC1=C(CCC1)[C@H]1CN1\",\"u\":-367.198766,\"u0\":-367.2079,\"u0_atom\":-3.346314,\"xyz\":\"22\\nProperties=species:S:1:pos:R:3 unique_id=ef4cdf48825f07674198527d13db3dc3 pbc=\\\"F F F\\\"\\nC      -0.17614419       1.39345250      -0.43811956 \\nC      -0.10132148      -0.08319296      -0.20355091 \\nC      -1.09461082      -0.93598396       0.08985599 \\nC      -0.56360192      -2.33047133       0.37869574 \\nC       0.88516072      -2.28325019      -0.15816488 \\nC       1.24464651      -0.78046234      -0.19160858 \\nC      -2.54443201      -0.65136129       0.24608243 \\nC      -3.32420388       0.12403331      -0.75238071 \\nN      -3.52628769      -1.33123661      -0.63493168 \\nH       0.46084631       1.92711776       0.27957779 \\nH       0.20027334       1.65730407      -1.43517277 \\nH      -1.19160754       1.78019296      -0.33879310 \\nH      -0.59344147      -2.52969714       1.46039334 \\nH      -1.16327028      -3.12038045      -0.08786904 \\nH       1.58237317      -2.87632366       0.43897106 \\nH       0.90888906      -2.68629980      -1.17590800 \\nH       1.86609861      -0.51106442      -1.05464442 \\nH       1.81577447      -0.47440367       0.69797037 \\nH      -2.89472207      -0.62231544       1.27866128 \\nH      -4.16784868       0.72958652      -0.43222679 \\nH      -2.80205145       0.50161931      -1.62631976 \\nH      -3.01998637      -1.79045202      -1.38999486 \\n\",\"zpe\":0.195447,\"in_holdout\":true}\n"
     ]
    }
   ],
   "source": [
    "data_path = '../datasets/qm9.json.gz'\n",
    "with gzip.open(data_path, 'rt') as fp:\n",
    "    record = fp.readline().strip()\n",
    "print(record)"
   ]
  },
  {
   "cell_type": "markdown",
   "metadata": {},
   "source": [
    "We need to do two things to make this data usable. First, take that record and parse it into a Python dictionary."
   ]
  },
  {
   "cell_type": "code",
   "execution_count": 4,
   "metadata": {},
   "outputs": [
    {
     "data": {
      "text/plain": [
       "{'A': 2.5832,\n",
       " 'B': 1.30797,\n",
       " 'C': 0.93888,\n",
       " 'R2': 1313.6519,\n",
       " 'alpha': 89.34,\n",
       " 'atomic_charges': [-0.499654,\n",
       "  0.225168,\n",
       "  0.200368,\n",
       "  -0.291577,\n",
       "  -0.21091,\n",
       "  -0.28294,\n",
       "  -0.105237,\n",
       "  -0.239277,\n",
       "  -0.322535,\n",
       "  0.124266,\n",
       "  0.121383,\n",
       "  0.129916,\n",
       "  0.102653,\n",
       "  0.100871,\n",
       "  0.096362,\n",
       "  0.101769,\n",
       "  0.097331,\n",
       "  0.102152,\n",
       "  0.095926,\n",
       "  0.11547,\n",
       "  0.111787,\n",
       "  0.226708],\n",
       " 'bandgap': 0.2487,\n",
       " 'cv': 34.347,\n",
       " 'filename': 'dsgdb9nsd_073931.xyz',\n",
       " 'g': -367.242047,\n",
       " 'g4mp2_0k': -366.761358,\n",
       " 'g4mp2_atom': -3.347687,\n",
       " 'g4mp2_energy': -366.752131,\n",
       " 'g4mp2_enthalpy': -366.751186,\n",
       " 'g4mp2_free': -366.795572,\n",
       " 'g4mp2_hf298': 33.0693,\n",
       " 'g4mp2_zpe': 0.192623,\n",
       " 'h': -367.197822,\n",
       " 'homo': -0.2266,\n",
       " 'inchi_0': 'InChI=1S/C8H13N/c1-6-3-2-4-7(6)8-5-9-8/h8-9H,2-5H2,1H3',\n",
       " 'inchi_1': 'InChI=1S/C8H13N/c1-6-3-2-4-7(6)8-5-9-8/h8-9H,2-5H2,1H3/t8-/m1/s1',\n",
       " 'index': 73931,\n",
       " 'lumo': 0.0221,\n",
       " 'mu': 1.8965,\n",
       " 'n_atom': 22,\n",
       " 'n_electrons': 68,\n",
       " 'n_heavy_atoms': 9,\n",
       " 'smiles_0': 'CC1=C(CCC1)C1CN1',\n",
       " 'smiles_1': 'CC1=C(CCC1)[C@H]1CN1',\n",
       " 'u': -367.198766,\n",
       " 'u0': -367.2079,\n",
       " 'u0_atom': -3.346314,\n",
       " 'xyz': '22\\nProperties=species:S:1:pos:R:3 unique_id=ef4cdf48825f07674198527d13db3dc3 pbc=\"F F F\"\\nC      -0.17614419       1.39345250      -0.43811956 \\nC      -0.10132148      -0.08319296      -0.20355091 \\nC      -1.09461082      -0.93598396       0.08985599 \\nC      -0.56360192      -2.33047133       0.37869574 \\nC       0.88516072      -2.28325019      -0.15816488 \\nC       1.24464651      -0.78046234      -0.19160858 \\nC      -2.54443201      -0.65136129       0.24608243 \\nC      -3.32420388       0.12403331      -0.75238071 \\nN      -3.52628769      -1.33123661      -0.63493168 \\nH       0.46084631       1.92711776       0.27957779 \\nH       0.20027334       1.65730407      -1.43517277 \\nH      -1.19160754       1.78019296      -0.33879310 \\nH      -0.59344147      -2.52969714       1.46039334 \\nH      -1.16327028      -3.12038045      -0.08786904 \\nH       1.58237317      -2.87632366       0.43897106 \\nH       0.90888906      -2.68629980      -1.17590800 \\nH       1.86609861      -0.51106442      -1.05464442 \\nH       1.81577447      -0.47440367       0.69797037 \\nH      -2.89472207      -0.62231544       1.27866128 \\nH      -4.16784868       0.72958652      -0.43222679 \\nH      -2.80205145       0.50161931      -1.62631976 \\nH      -3.01998637      -1.79045202      -1.38999486 \\n',\n",
       " 'zpe': 0.195447,\n",
       " 'in_holdout': True}"
      ]
     },
     "execution_count": 4,
     "metadata": {},
     "output_type": "execute_result"
    }
   ],
   "source": [
    "json.loads(record)"
   ]
  },
  {
   "cell_type": "markdown",
   "metadata": {},
   "source": [
    "And, second, making it easy to work with a lot of these dictionaries at once.\n",
    "\n",
    "For this purpose, we use [Pandas](https://pandas.pydata.org/docs/user_guide/index.html)."
   ]
  },
  {
   "cell_type": "code",
   "execution_count": 5,
   "metadata": {},
   "outputs": [],
   "source": [
    "data = pd.read_json(data_path, lines=True).head(1000)  # Only get the first 1000 for simplicity"
   ]
  },
  {
   "cell_type": "code",
   "execution_count": 6,
   "metadata": {},
   "outputs": [
    {
     "data": {
      "text/html": [
       "<div>\n",
       "<style scoped>\n",
       "    .dataframe tbody tr th:only-of-type {\n",
       "        vertical-align: middle;\n",
       "    }\n",
       "\n",
       "    .dataframe tbody tr th {\n",
       "        vertical-align: top;\n",
       "    }\n",
       "\n",
       "    .dataframe thead th {\n",
       "        text-align: right;\n",
       "    }\n",
       "</style>\n",
       "<table border=\"1\" class=\"dataframe\">\n",
       "  <thead>\n",
       "    <tr style=\"text-align: right;\">\n",
       "      <th></th>\n",
       "      <th>smiles_0</th>\n",
       "      <th>inchi_0</th>\n",
       "      <th>u</th>\n",
       "    </tr>\n",
       "  </thead>\n",
       "  <tbody>\n",
       "    <tr>\n",
       "      <th>0</th>\n",
       "      <td>CC1=C(CCC1)C1CN1</td>\n",
       "      <td>InChI=1S/C8H13N/c1-6-3-2-4-7(6)8-5-9-8/h8-9H,2...</td>\n",
       "      <td>-367.198766</td>\n",
       "    </tr>\n",
       "    <tr>\n",
       "      <th>1</th>\n",
       "      <td>COC12CCC1C1CC21</td>\n",
       "      <td>InChI=1S/C8H12O/c1-9-8-3-2-6(8)5-4-7(5)8/h5-7H...</td>\n",
       "      <td>-387.016378</td>\n",
       "    </tr>\n",
       "    <tr>\n",
       "      <th>2</th>\n",
       "      <td>OC1CC2CC12</td>\n",
       "      <td>InChI=1S/C5H8O/c6-5-2-3-1-4(3)5/h3-6H,1-2H2</td>\n",
       "      <td>-270.390923</td>\n",
       "    </tr>\n",
       "    <tr>\n",
       "      <th>3</th>\n",
       "      <td>CC1C2CCC1C1CC21</td>\n",
       "      <td>InChI=1S/C9H14/c1-5-6-2-3-7(5)9-4-8(6)9/h5-9H,...</td>\n",
       "      <td>-351.155574</td>\n",
       "    </tr>\n",
       "    <tr>\n",
       "      <th>4</th>\n",
       "      <td>COC12CC(C1C)C2=O</td>\n",
       "      <td>InChI=1S/C7H10O2/c1-4-5-3-7(4,9-2)6(5)8/h4-5H,...</td>\n",
       "      <td>-422.975002</td>\n",
       "    </tr>\n",
       "  </tbody>\n",
       "</table>\n",
       "</div>"
      ],
      "text/plain": [
       "           smiles_0                                            inchi_0  \\\n",
       "0  CC1=C(CCC1)C1CN1  InChI=1S/C8H13N/c1-6-3-2-4-7(6)8-5-9-8/h8-9H,2...   \n",
       "1   COC12CCC1C1CC21  InChI=1S/C8H12O/c1-9-8-3-2-6(8)5-4-7(5)8/h5-7H...   \n",
       "2        OC1CC2CC12        InChI=1S/C5H8O/c6-5-2-3-1-4(3)5/h3-6H,1-2H2   \n",
       "3   CC1C2CCC1C1CC21  InChI=1S/C9H14/c1-5-6-2-3-7(5)9-4-8(6)9/h5-9H,...   \n",
       "4  COC12CC(C1C)C2=O  InChI=1S/C7H10O2/c1-4-5-3-7(4,9-2)6(5)8/h4-5H,...   \n",
       "\n",
       "            u  \n",
       "0 -367.198766  \n",
       "1 -387.016378  \n",
       "2 -270.390923  \n",
       "3 -351.155574  \n",
       "4 -422.975002  "
      ]
     },
     "execution_count": 6,
     "metadata": {},
     "output_type": "execute_result"
    }
   ],
   "source": [
    "data[['smiles_0', 'inchi_0', 'u']].head(5)"
   ]
  },
  {
   "cell_type": "markdown",
   "metadata": {},
   "source": [
    "The above commands read the file from disk ([`read_json`](https://pandas.pydata.org/docs/user_guide/io.html#json)) and then displays a fraction of the table. I display the table to show that this object represents, in a sense, a big table or digital spreadsheet.\n",
    "\n",
    "We'll touch on a few concepts of Pandas throughout these notebooks but I would highly recommend [10 minutes to Pandas](https://pandas.pydata.org/docs/user_guide/10min.html) if you have not used Pandas before."
   ]
  },
  {
   "cell_type": "markdown",
   "metadata": {},
   "source": [
    "### Part 2: Parsing Chemical Structures\n",
    "The molecular structure of each record are recorded as [\"SMILES\"](https://en.wikipedia.org/wiki/Simplified_molecular-input_line-entry_system) and [\"InChI\"](https://en.wikipedia.org/wiki/International_Chemical_Identifier) strings. \n",
    "\n",
    "*Aside*: Both of SMILES and InChI are from a long tradition of methods in chemistry for writing out molecules as a string of printable characters that can be read by computers. \n",
    "The short of it is that SMILES strings are easily human-readable and InChI guarantee a unique string. \n",
    "For example, methanol can be both `CO` or `OC` in SMILES but only `InChI=1S/CH4O/c1-2/h2H,1H3` in InChI. "
   ]
  },
  {
   "cell_type": "markdown",
   "metadata": {},
   "source": [
    "RDKit provides functionality for parsing both. Here, we are going to use the SMILES string to create a molecule object."
   ]
  },
  {
   "cell_type": "code",
   "execution_count": 9,
   "metadata": {},
   "outputs": [
    {
     "data": {
      "image/png": "[encoded data removed]",
      "text/plain": [
       "<rdkit.Chem.rdchem.Mol at 0x7fe3c73770d0>"
      ]
     },
     "execution_count": 9,
     "metadata": {},
     "output_type": "execute_result"
    }
   ],
   "source": [
    "mol = Chem.MolFromSmiles('CCCO')\n",
    "mol"
   ]
  },
  {
   "cell_type": "markdown",
   "metadata": {},
   "source": [
    "If JupyterLab is a recent version, you should see a visual of [1-propanol](https://en.wikipedia.org/wiki/1-Propanol).\n",
    "We will see more about what you can do with `mol` later, but the fact that your computer knew what `CCCO` means is because RDKit can read SMILES.\n",
    "\n",
    "Now, let's parse all of the molecules using Panda's map function. "
   ]
  },
  {
   "cell_type": "code",
   "execution_count": 10,
   "metadata": {},
   "outputs": [],
   "source": [
    "data['mol'] = data['smiles_0'].map(Chem.MolFromSmiles)"
   ]
  },
  {
   "cell_type": "markdown",
   "metadata": {},
   "source": [
    "## Manipulating Molecules\n",
    "Once molecules are parsed, you can make many kinds of queries about them. \n",
    "\n",
    "For now, we use the 1-Propanol molecule from earlier as an example"
   ]
  },
  {
   "cell_type": "markdown",
   "metadata": {},
   "source": [
    "### Basic Functionality\n",
    "RDKit treats the molecule as a Python object and, accordingly, you can interact with it using some functions"
   ]
  },
  {
   "cell_type": "code",
   "execution_count": 11,
   "metadata": {},
   "outputs": [
    {
     "name": "stdout",
     "output_type": "stream",
     "text": [
      "Atom 0 is an C\n",
      "Atom 1 is an C\n",
      "Atom 2 is an C\n",
      "Atom 3 is an O\n"
     ]
    }
   ],
   "source": [
    "for i, a in enumerate(mol.GetAtoms()):\n",
    "    print(f'Atom {i} is an {a.GetSymbol()}')"
   ]
  },
  {
   "cell_type": "markdown",
   "metadata": {},
   "source": [
    "Note that it initially treats the molecule with _implicit_ hydrogrens, which you can add by calling a method from the `Chem` module"
   ]
  },
  {
   "cell_type": "code",
   "execution_count": 12,
   "metadata": {},
   "outputs": [
    {
     "data": {
      "image/png": "[encoded data removed]",
      "text/plain": [
       "<rdkit.Chem.rdchem.Mol at 0x7fe3c6e24cb0>"
      ]
     },
     "execution_count": 12,
     "metadata": {},
     "output_type": "execute_result"
    }
   ],
   "source": [
    "mol = Chem.AddHs(mol)\n",
    "mol"
   ]
  },
  {
   "cell_type": "code",
   "execution_count": 13,
   "metadata": {},
   "outputs": [
    {
     "name": "stdout",
     "output_type": "stream",
     "text": [
      "Atom 0 is an C\n",
      "Atom 1 is an C\n",
      "Atom 2 is an C\n",
      "Atom 3 is an O\n",
      "Atom 4 is an H\n",
      "Atom 5 is an H\n",
      "Atom 6 is an H\n",
      "Atom 7 is an H\n",
      "Atom 8 is an H\n",
      "Atom 9 is an H\n",
      "Atom 10 is an H\n",
      "Atom 11 is an H\n"
     ]
    }
   ],
   "source": [
    "for i, a in enumerate(mol.GetAtoms()):\n",
    "    print(f'Atom {i} is an {a.GetSymbol()}')"
   ]
  },
  {
   "cell_type": "markdown",
   "metadata": {},
   "source": [
    "You can also do more sophisticated things like, find all rings"
   ]
  },
  {
   "cell_type": "code",
   "execution_count": 17,
   "metadata": {},
   "outputs": [
    {
     "data": {
      "image/png": "[encoded data removed]",
      "text/plain": [
       "<rdkit.Chem.rdchem.Mol at 0x7fe3e66b0bc0>"
      ]
     },
     "execution_count": 17,
     "metadata": {},
     "output_type": "execute_result"
    }
   ],
   "source": [
    "toluene = Chem.MolFromSmiles('CCc1ccccc1')\n",
    "toluene"
   ]
  },
  {
   "cell_type": "code",
   "execution_count": 18,
   "metadata": {},
   "outputs": [
    {
     "name": "stdout",
     "output_type": "stream",
     "text": [
      "Toluene has 1 ring\n"
     ]
    }
   ],
   "source": [
    "r = toluene.GetRingInfo()\n",
    "print(f'Toluene has {r.NumRings()} ring')"
   ]
  },
  {
   "cell_type": "markdown",
   "metadata": {},
   "source": [
    "You can imagine that RDKit has many capabilities for describing molecules"
   ]
  },
  {
   "cell_type": "markdown",
   "metadata": {},
   "source": [
    "### Descriptors\n",
    "Hence, RDKit is a source of [many different \"descriptors\" for molecules](https://www.rdkit.org/docs/GettingStartedInPython.html#list-of-available-descriptors). We'll demonstrate a few for concepts."
   ]
  },
  {
   "cell_type": "markdown",
   "metadata": {},
   "source": [
    "Some generate `float` or `int` values, which can be directly used by Python"
   ]
  },
  {
   "cell_type": "code",
   "execution_count": 19,
   "metadata": {},
   "outputs": [
    {
     "name": "stdout",
     "output_type": "stream",
     "text": [
      "Toluene has 1 rotatable bonds\n"
     ]
    }
   ],
   "source": [
    "print(f'Toluene has {AllChem.CalcNumRotatableBonds(toluene)} rotatable bonds')"
   ]
  },
  {
   "cell_type": "markdown",
   "metadata": {},
   "source": [
    "Others are in C++ objects which, while similar to Python objects, should be converted to a Python standard type.\n",
    "\n",
    "*Aside*: This has to do with parts of RDKit being written in C++. "
   ]
  },
  {
   "cell_type": "code",
   "execution_count": 20,
   "metadata": {},
   "outputs": [
    {
     "data": {
      "text/plain": [
       "<rdkit.rdBase._vectd at 0x7fe3c2f679f0>"
      ]
     },
     "execution_count": 20,
     "metadata": {},
     "output_type": "execute_result"
    }
   ],
   "source": [
    "r = AllChem.BCUT2D(mol)\n",
    "r"
   ]
  },
  {
   "cell_type": "markdown",
   "metadata": {},
   "source": [
    "### Fingerprints\n",
    "Another class of descriptor are \"fingerprints,\" which seek to encode the entire molecule as a fixed length vector of bits. RDKit [implements a few of these](https://www.rdkit.org/docs/GettingStartedInPython.html#list-of-available-fingerprints)"
   ]
  },
  {
   "cell_type": "code",
   "execution_count": 21,
   "metadata": {},
   "outputs": [
    {
     "data": {
      "text/plain": [
       "<rdkit.DataStructs.cDataStructs.ExplicitBitVect at 0x7fe3c6dd7490>"
      ]
     },
     "execution_count": 21,
     "metadata": {},
     "output_type": "execute_result"
    }
   ],
   "source": [
    "bv = AllChem.GetMorganFingerprintAsBitVect(mol, 4, 16)\n",
    "bv"
   ]
  },
  {
   "cell_type": "code",
   "execution_count": 22,
   "metadata": {},
   "outputs": [
    {
     "data": {
      "text/plain": [
       "array([0, 1, 1, 1, 1, 1, 0, 1, 0, 0, 1, 0, 0, 1, 0, 1])"
      ]
     },
     "execution_count": 22,
     "metadata": {},
     "output_type": "execute_result"
    }
   ],
   "source": [
    "np.asarray(bv)"
   ]
  },
  {
   "cell_type": "markdown",
   "metadata": {},
   "source": [
    "As we will see later, both fingerprints and descriptors provide complementary routes for training machine learning models."
   ]
  },
  {
   "cell_type": "code",
   "execution_count": null,
   "metadata": {},
   "outputs": [],
   "source": []
  }
 ],
 "metadata": {
  "kernelspec": {
   "display_name": "Python 3 (ipykernel)",
   "language": "python",
   "name": "python3"
  },
  "language_info": {
   "codemirror_mode": {
    "name": "ipython",
    "version": 3
   },
   "file_extension": ".py",
   "mimetype": "text/x-python",
   "name": "python",
   "nbconvert_exporter": "python",
   "pygments_lexer": "ipython3",
   "version": "3.7.11"
  }
 },
 "nbformat": 4,
 "nbformat_minor": 4
}
