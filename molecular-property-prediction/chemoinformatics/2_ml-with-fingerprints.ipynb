{
 "cells": [
  {
   "cell_type": "markdown",
   "id": "parental-algorithm",
   "metadata": {},
   "source": [
    "# Machine Learning with Molecular Fingerprints\n",
    "Machine learning with molecular fingerprints, as with chemical descriptors, benefits"
   ]
  },
  {
   "cell_type": "code",
   "execution_count": 1,
   "id": "printable-effect",
   "metadata": {},
   "outputs": [],
   "source": [
    "%matplotlib inline\n",
    "from matplotlib import pyplot as plt\n",
    "from sklearn.model_selection import train_test_split\n",
    "from sklearn.neighbors import KNeighborsRegressor\n",
    "from sklearn.pipeline import Pipeline\n",
    "from sklearn.metrics import r2_score, mean_absolute_error\n",
    "from sklearn.base import BaseEstimator, TransformerMixin\n",
    "from rdkit.Chem import AllChem\n",
    "from rdkit import DataStructs\n",
    "from rdkit import Chem\n",
    "from tqdm import tqdm\n",
    "import pandas as pd\n",
    "import numpy as np"
   ]
  },
  {
   "cell_type": "markdown",
   "id": "transparent-wilson",
   "metadata": {},
   "source": [
    "## Load Sample Data\n",
    "We are going to use the QM9 subset from previous problems."
   ]
  },
  {
   "cell_type": "code",
   "execution_count": 2,
   "id": "hazardous-romance",
   "metadata": {},
   "outputs": [],
   "source": [
    "data = pd.read_json('../datasets/qm9.json.gz', lines=True).sample(5000)"
   ]
  },
  {
   "cell_type": "markdown",
   "id": "combined-training",
   "metadata": {},
   "source": [
    "## Efficiently Computing Fingerprints\n",
    "We are going to make a utility class that simplifies computing fingerprints using scikit-learn's [BaseEstimator](https://scikit-learn.org/stable/modules/generated/sklearn.base.BaseEstimator.html) class. Building a class with BaseEstimator allows it to work with some of the other functionality from scikit-learn, such as the Pipeline.\n",
    "\n",
    "*Aside*: Read [this](https://www.w3schools.com/python/python_classes.asp) if you are unfamiliar with Python classes."
   ]
  },
  {
   "cell_type": "markdown",
   "id": "formal-passion",
   "metadata": {},
   "source": [
    "Step 1: A simple function for computing fingerprints"
   ]
  },
  {
   "cell_type": "code",
   "execution_count": 3,
   "id": "israeli-thumbnail",
   "metadata": {},
   "outputs": [],
   "source": [
    "def compute_morgan_fingerprints(smiles: str, fingerprint_length: int, fingerprint_radius: int):\n",
    "    \"\"\"Get Morgan Fingerprint of a specific SMILES string.\n",
    "    Adapted from: <https://github.com/google-research/google-research/blob/\n",
    "    dfac4178ccf521e8d6eae45f7b0a33a6a5b691ee/mol_dqn/chemgraph/dqn/deep_q_networks.py#L750>\n",
    "    Args:\n",
    "      graph (str): The molecule as a SMILES string\n",
    "      fingerprint_length (int): Bit-length of fingerprint\n",
    "      fingerprint_radius (int): Radius used to compute fingerprint\n",
    "    Returns:\n",
    "      np.array. shape = [hparams, fingerprint_length]. The Morgan fingerprint.\n",
    "    \"\"\"\n",
    "    # Parse the molecule\n",
    "    molecule = Chem.MolFromSmiles(smiles)\n",
    "\n",
    "    # Compute the fingerprint\n",
    "    fingerprint = AllChem.GetMorganFingerprintAsBitVect(\n",
    "        molecule, fingerprint_radius, fingerprint_length)\n",
    "    arr = np.zeros((1,), dtype=bool)\n",
    "\n",
    "    # ConvertToNumpyArray takes ~ 0.19 ms, while\n",
    "    # np.asarray takes ~ 4.69 ms\n",
    "    DataStructs.ConvertToNumpyArray(fingerprint, arr)\n",
    "    return arr"
   ]
  },
  {
   "cell_type": "code",
   "execution_count": 4,
   "id": "responsible-variety",
   "metadata": {},
   "outputs": [
    {
     "data": {
      "text/plain": [
       "array([ True, False, False, False])"
      ]
     },
     "execution_count": 4,
     "metadata": {},
     "output_type": "execute_result"
    }
   ],
   "source": [
    "compute_morgan_fingerprints('C', 4, 2)  # As an example, compute methane"
   ]
  },
  {
   "cell_type": "code",
   "execution_count": 5,
   "id": "ultimate-literacy",
   "metadata": {},
   "outputs": [
    {
     "data": {
      "text/plain": [
       "array([[ True, False, False, False],\n",
       "       [ True,  True,  True, False],\n",
       "       [ True, False,  True, False]])"
      ]
     },
     "execution_count": 5,
     "metadata": {},
     "output_type": "execute_result"
    }
   ],
   "source": [
    "class MorganFingerprintTransformer(BaseEstimator, TransformerMixin):\n",
    "    \"\"\"Class that converts SMILES strings to fingerprint vectors\"\"\"\n",
    "    \n",
    "    def __init__(self, length: int = 256, radius: int = 4):\n",
    "        self.length = length\n",
    "        self.radius = radius\n",
    "    \n",
    "    def fit(self, X, y=None):\n",
    "        return self  # Do need to do anything\n",
    "    \n",
    "    def transform(self, X, y=None):\n",
    "        \"\"\"Compute the fingerprints\n",
    "        \n",
    "        Args:\n",
    "            X: List of SMILES strings\n",
    "        Returns:\n",
    "            Array of fingerprints\n",
    "        \"\"\"\n",
    "        \n",
    "        fing = [compute_morgan_fingerprints(m, self.length, self.radius) for m in X]\n",
    "        return np.vstack(fing)\n",
    "m = MorganFingerprintTransformer(4, 4)\n",
    "m.transform(['C', 'CCC', 'C=O'])"
   ]
  },
  {
   "cell_type": "markdown",
   "id": "sudden-regular",
   "metadata": {},
   "source": [
    "Ok, we are now ready to use Morgan fingerprints easily"
   ]
  },
  {
   "cell_type": "markdown",
   "id": "bearing-extension",
   "metadata": {},
   "source": [
    "## KNN Regressor\n",
    "The k-Nearest-Neighbor (KNN) regressor is one of the conceptually simplist ML algorithms. You find the $k$ entries that are most similar to a record and predict by taking the average values of their classes. One additional thing to know about it is that scikit-learn's [KNeighborsRegressor](https://scikit-learn.org/stable/modules/generated/sklearn.neighbors.KNeighborsRegressor.html) lets you configure the similarity metric.\n",
    "\n",
    "There are actually a [multitude of ways](https://scikit-learn.org/stable/modules/generated/sklearn.neighbors.DistanceMetric.html#sklearn.neighbors.DistanceMetric) to measure distance between two vectors. Some are better suited for continuous values and others are good for lists of True/False values, such as fingerprints. Of these, the QSAR community [typically uses](https://jcheminf.biomedcentral.com/articles/10.1186/s13321-015-0069-3) the [Jaccard/Tanimoto Distance](https://en.wikipedia.org/wiki/Jaccard_index)."
   ]
  },
  {
   "cell_type": "markdown",
   "id": "committed-cuisine",
   "metadata": {},
   "source": [
    "Before testing, let's make a training and test set"
   ]
  },
  {
   "cell_type": "code",
   "execution_count": 6,
   "id": "advance-carbon",
   "metadata": {},
   "outputs": [],
   "source": [
    "train_data, test_data = train_test_split(data)"
   ]
  },
  {
   "cell_type": "code",
   "execution_count": 7,
   "id": "dedicated-arrest",
   "metadata": {},
   "outputs": [],
   "source": [
    "m.length = 256\n",
    "test_fng = m.transform(test_data['smiles_0'])\n",
    "train_fng = m.transform(train_data['smiles_0'])"
   ]
  },
  {
   "cell_type": "markdown",
   "id": "pressed-mechanics",
   "metadata": {},
   "source": [
    "Let's fit a model to the training set"
   ]
  },
  {
   "cell_type": "code",
   "execution_count": 8,
   "id": "rental-circuit",
   "metadata": {},
   "outputs": [],
   "source": [
    "krr = KNeighborsRegressor(n_neighbors=3, metric='jaccard')"
   ]
  },
  {
   "cell_type": "code",
   "execution_count": 9,
   "id": "artificial-eleven",
   "metadata": {},
   "outputs": [
    {
     "data": {
      "text/plain": [
       "KNeighborsRegressor(metric='jaccard', n_neighbors=3)"
      ]
     },
     "execution_count": 9,
     "metadata": {},
     "output_type": "execute_result"
    }
   ],
   "source": [
    "krr.fit(train_fng, train_data['bandgap'])"
   ]
  },
  {
   "cell_type": "code",
   "execution_count": 10,
   "id": "gross-stand",
   "metadata": {},
   "outputs": [],
   "source": [
    "y_pred = krr.predict(test_fng)"
   ]
  },
  {
   "cell_type": "code",
   "execution_count": 11,
   "id": "abstract-mustang",
   "metadata": {},
   "outputs": [
    {
     "data": {
      "text/plain": [
       "Text(0, 0.5, '$E_g$, True')"
      ]
     },
     "execution_count": 11,
     "metadata": {},
     "output_type": "execute_result"
    },
    {
     "data": {
      "image/png": "[encoded data removed]",
      "text/plain": [
       "<Figure size 252x252 with 1 Axes>"
      ]
     },
     "metadata": {
      "needs_background": "light"
     },
     "output_type": "display_data"
    }
   ],
   "source": [
    "fig, ax = plt.subplots(figsize=(3.5, 3.5))\n",
    "\n",
    "r2 = r2_score(y_pred, test_data['bandgap'])\n",
    "ax.text(0.02, 0.9, f'$R^2 = {r2:.2f}$', transform=ax.transAxes)\n",
    "ax.scatter(y_pred, test_data['bandgap'])\n",
    "\n",
    "ax.set_xlabel('$E_g$, ML')  \n",
    "ax.set_ylim(ax.get_ylim())\n",
    "ax.set_xlim(ax.get_ylim())\n",
    "ax.plot(ax.get_xlim(), ax.get_xlim(), 'k--')\n",
    "    \n",
    "ax.set_ylabel('$E_g$, True')"
   ]
  },
  {
   "cell_type": "markdown",
   "id": "backed-nature",
   "metadata": {},
   "source": [
    "## Making a Pipeline\n",
    "Always a good plan for doing experiments as it lets you configure things easier"
   ]
  },
  {
   "cell_type": "code",
   "execution_count": 12,
   "id": "completed-billion",
   "metadata": {},
   "outputs": [],
   "source": [
    "model = Pipeline([\n",
    "    ('fingerprint', MorganFingerprintTransformer()),\n",
    "    ('knn', KNeighborsRegressor(n_neighbors=2, metric='jaccard', n_jobs=-1))  # n_jobs = -1 lets the model run all available processors\n",
    "])"
   ]
  },
  {
   "cell_type": "markdown",
   "id": "inclusive-shuttle",
   "metadata": {},
   "source": [
    "*Comprehension Question*: Why do we not use a scaling step here?"
   ]
  },
  {
   "cell_type": "markdown",
   "id": "musical-accountability",
   "metadata": {},
   "source": [
    "## Effect of Training Set Size\n",
    "See how the model performs as we increase data with using two different fingerprint lengths"
   ]
  },
  {
   "cell_type": "code",
   "execution_count": 13,
   "id": "comic-communications",
   "metadata": {},
   "outputs": [
    {
     "name": "stderr",
     "output_type": "stream",
     "text": [
      "l=32: 100%|████████████████████████████████████████████████████████████████████████████████████████████████████████████████████████████████████████████████████████████████████████| 7/7 [00:10<00:00,  1.51s/it]\n",
      "l=64: 100%|████████████████████████████████████████████████████████████████████████████████████████████████████████████████████████████████████████████████████████████████████████| 7/7 [00:10<00:00,  1.51s/it]\n",
      "l=128: 100%|███████████████████████████████████████████████████████████████████████████████████████████████████████████████████████████████████████████████████████████████████████| 7/7 [00:10<00:00,  1.56s/it]\n"
     ]
    }
   ],
   "source": [
    "# A common pattern of work in ML is to try a few variations of parameters\n",
    "#  and assess their performance. I prefer to use a pattern where I loop\n",
    "#  over all of those parameters and then store them as a Pandas DataFrame.\n",
    "#  You'll see how to do that in this cell\n",
    "results = []\n",
    "for l in [32, 64, 128]:\n",
    "    model.set_params(fingerprint__length=l)\n",
    "    for s in tqdm([3, 10, 30, 100, 300, 1000, 3000], desc=f'l={l}'):  # Loop over different training set sizes\n",
    "        for i in range(16):  # Repeat the experiment\n",
    "            subset = train_data.sample(s)  # Downselect to the desired size\n",
    "\n",
    "            # Train and test the model\n",
    "            model.fit(subset['smiles_0'], subset['bandgap'])\n",
    "            y_pred = model.predict(test_data['smiles_0'])\n",
    "\n",
    "            # Store the results\n",
    "            #  Use a list of dictionaries, which I can convert to \n",
    "            #  a DataFrame very easily\n",
    "            results.append({\n",
    "                'length': l,\n",
    "                'train_size': s,\n",
    "                'iteration': i,\n",
    "                'r2_score': r2_score(test_data['bandgap'], y_pred),\n",
    "                'mae': mean_absolute_error(test_data['bandgap'], y_pred)\n",
    "            })\n",
    "results = pd.DataFrame(results)  # Converts to a dataframe"
   ]
  },
  {
   "cell_type": "markdown",
   "id": "rural-humanity",
   "metadata": {},
   "source": [
    "Plot the results"
   ]
  },
  {
   "cell_type": "code",
   "execution_count": 14,
   "id": "27d9e9c4-69c7-4bf9-a5a6-ecdc5de33a8e",
   "metadata": {},
   "outputs": [],
   "source": [
    "results.to_csv('test.csv')"
   ]
  },
  {
   "cell_type": "code",
   "execution_count": 15,
   "id": "completed-somerset",
   "metadata": {},
   "outputs": [
    {
     "data": {
      "image/png": "[encoded data removed]",
      "text/plain": [
       "<Figure size 432x288 with 1 Axes>"
      ]
     },
     "metadata": {
      "needs_background": "light"
     },
     "output_type": "display_data"
    }
   ],
   "source": [
    "fig, ax = plt.subplots()\n",
    "\n",
    "# Group loops over subsets with the same value for\n",
    "#  a certain column. \"gid\" is that value, and group\n",
    "#  is a DataFrame with that population of data\n",
    "for gid, group in results.groupby('length'):\n",
    "    # First, group by the training set size and compute the average over averages\n",
    "    #  The data is already grouped by length, so here we just need to compute the \n",
    "    #  average for all groups with the same training set size\n",
    "    #\n",
    "    #  You can do that in one line with Pandas:\n",
    "    #  https://pandas.pydata.org/pandas-docs/stable/user_guide/groupby.html\n",
    "    group_stats = group.groupby('train_size').mean()\n",
    "    \n",
    "    ax.loglog(group_stats.index, group_stats['mae'], '--o', label=f'l={gid}')\n",
    "    \n",
    "ax.legend()\n",
    "\n",
    "ax.set_xlabel('Train Size')\n",
    "ax.set_ylabel('MAE')\n",
    "fig.tight_layout()"
   ]
  },
  {
   "cell_type": "markdown",
   "id": "aggregate-russia",
   "metadata": {},
   "source": [
    "Note how the difference between the performance of models depending on the fingerprint length increases with training set size. \n",
    "They are all effectively equivalent at dataset sizes of 3 training sets, but are very different at 3000 entries. \n",
    "\n",
    "The benefit for the increased fingerprint length is that it can disambuigate better between molecules and this becomes important\n",
    "when you have a greater number of molecules to distinguish between. \n",
    "This notion of \"larger datasets can benefit from more complex models\" is one of the big lessons of machine learning."
   ]
  }
 ],
 "metadata": {
  "kernelspec": {
   "display_name": "Python 3 (ipykernel)",
   "language": "python",
   "name": "python3"
  },
  "language_info": {
   "codemirror_mode": {
    "name": "ipython",
    "version": 3
   },
   "file_extension": ".py",
   "mimetype": "text/x-python",
   "name": "python",
   "nbconvert_exporter": "python",
   "pygments_lexer": "ipython3",
   "version": "3.8.12"
  }
 },
 "nbformat": 4,
 "nbformat_minor": 5
}
