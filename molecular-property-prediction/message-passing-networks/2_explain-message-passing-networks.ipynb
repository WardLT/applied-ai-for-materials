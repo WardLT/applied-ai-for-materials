{
 "cells": [
  {
   "cell_type": "markdown",
   "id": "electoral-sapphire",
   "metadata": {},
   "source": [
    "# Explain Message Passing Neural Networks\n",
    "A discussed in [our lecture](https://1drv.ms/b/s!AswJEkleh18Ah5QeJTjZ0V8fI0AJ-w?e=gsM2hK) and [Gilmer et al.](https://arxiv.org/abs/1704.01212), neural networks are composed of message passing, update, and readout functions. \n",
    "This notebook will demonstrate how to build these functions using Tensorflow."
   ]
  },
  {
   "cell_type": "code",
   "execution_count": 21,
   "id": "parliamentary-nebraska",
   "metadata": {
    "tags": []
   },
   "outputs": [],
   "source": [
    "%matplotlib inline\n",
    "from matplotlib import pyplot as plt\n",
    "from mpnn.data import make_data_loader\n",
    "from tensorflow.keras.models import Model\n",
    "from tensorflow.keras import layers\n",
    "import tensorflow as tf\n",
    "import numpy as np"
   ]
  },
  {
   "cell_type": "markdown",
   "id": "indoor-microwave",
   "metadata": {},
   "source": [
    "## Get a Batch of Data\n",
    "We are going to use same data loader functions from the previous notebooks to create a batch of training examples.\n",
    "\n",
    "These functions are stored in the stripped-down MPNN library, [`mpnn`](./mpnn), I provide with these notebooks"
   ]
  },
  {
   "cell_type": "code",
   "execution_count": 22,
   "id": "korean-uniform",
   "metadata": {
    "tags": []
   },
   "outputs": [],
   "source": [
    "loader = make_data_loader('datasets/train_data.proto', batch_size=2, output_property='u0_atom')"
   ]
  },
  {
   "cell_type": "code",
   "execution_count": 23,
   "id": "central-bachelor",
   "metadata": {
    "tags": []
   },
   "outputs": [
    {
     "name": "stdout",
     "output_type": "stream",
     "text": [
      "Produced a batch with the following tensors: ['atom', 'bond', 'connectivity', 'n_atom', 'n_bond', 'node_graph_indices', 'bond_graph_indices']\n"
     ]
    }
   ],
   "source": [
    "inputs, outputs = next(iter(loader))\n",
    "print(f'Produced a batch with the following tensors: {list(inputs.keys())}')"
   ]
  },
  {
   "cell_type": "markdown",
   "id": "veterinary-michael",
   "metadata": {},
   "source": [
    "## Initial Processing: Embeddings\n",
    "The `atom` and `bond` tensors contain the types of each atom and bond but are not particularly meaningful. "
   ]
  },
  {
   "cell_type": "code",
   "execution_count": 24,
   "id": "wanted-eating",
   "metadata": {
    "tags": []
   },
   "outputs": [
    {
     "data": {
      "text/plain": [
       "<tf.Tensor: shape=(32,), dtype=int64, numpy=\n",
       "array([3, 1, 1, 1, 1, 1, 3, 2, 3, 0, 0, 0, 0, 0, 0, 0, 1, 1, 3, 1, 2, 2,\n",
       "       1, 1, 0, 0, 0, 0, 0, 0, 0, 0])>"
      ]
     },
     "execution_count": 24,
     "metadata": {},
     "output_type": "execute_result"
    }
   ],
   "source": [
    "inputs['atom']"
   ]
  },
  {
   "cell_type": "markdown",
   "id": "cleared-recipient",
   "metadata": {},
   "source": [
    "For example, the person who defined this file format and as a chemist, I know that atom type `1` is a Carbon and some information about how Carbon should behave.\n",
    "The computer only sees discrete categories.\n",
    "Our first step to building the network is to map these categories to features that could represent the data. \n",
    "A quick way to do that is to use [\"embeddings\"](https://towardsdatascience.com/neural-network-embeddings-explained-4d028e6f0526) that enable the machine learning model learn how these categories relate to each other automatically."
   ]
  },
  {
   "cell_type": "code",
   "execution_count": 25,
   "id": "swedish-ladder",
   "metadata": {
    "tags": []
   },
   "outputs": [],
   "source": [
    "atom_embeddings = layers.Embedding(6, 2)  # Defines 6 categories of 2 features each\n",
    "bond_embeddings = layers.Embedding(4, 2)"
   ]
  },
  {
   "cell_type": "markdown",
   "id": "cardiac-cassette",
   "metadata": {},
   "source": [
    "Note how the embedding maps our atom type to a 2 features.\n",
    "\n",
    "Also, note that the the first rows three atoms are the same. These correspond to the same atoms which are all Carbons"
   ]
  },
  {
   "cell_type": "code",
   "execution_count": 26,
   "id": "living-router",
   "metadata": {
    "tags": []
   },
   "outputs": [],
   "source": [
    "atom_features = atom_embeddings(inputs['atom'])\n",
    "bond_features = bond_embeddings(inputs['bond'])"
   ]
  },
  {
   "cell_type": "code",
   "execution_count": 27,
   "id": "limiting-waters",
   "metadata": {
    "tags": []
   },
   "outputs": [
    {
     "data": {
      "text/plain": [
       "array([[-0.04006652,  0.0298044 ],\n",
       "       [ 0.04813161,  0.00262249],\n",
       "       [ 0.04813161,  0.00262249],\n",
       "       [ 0.04813161,  0.00262249],\n",
       "       [ 0.04813161,  0.00262249],\n",
       "       [ 0.04813161,  0.00262249],\n",
       "       [-0.04006652,  0.0298044 ],\n",
       "       [ 0.00825942, -0.00161554],\n",
       "       [-0.04006652,  0.0298044 ],\n",
       "       [ 0.00274874, -0.0300154 ],\n",
       "       [ 0.00274874, -0.0300154 ],\n",
       "       [ 0.00274874, -0.0300154 ],\n",
       "       [ 0.00274874, -0.0300154 ],\n",
       "       [ 0.00274874, -0.0300154 ],\n",
       "       [ 0.00274874, -0.0300154 ],\n",
       "       [ 0.00274874, -0.0300154 ],\n",
       "       [ 0.04813161,  0.00262249],\n",
       "       [ 0.04813161,  0.00262249],\n",
       "       [-0.04006652,  0.0298044 ],\n",
       "       [ 0.04813161,  0.00262249],\n",
       "       [ 0.00825942, -0.00161554],\n",
       "       [ 0.00825942, -0.00161554],\n",
       "       [ 0.04813161,  0.00262249],\n",
       "       [ 0.04813161,  0.00262249],\n",
       "       [ 0.00274874, -0.0300154 ],\n",
       "       [ 0.00274874, -0.0300154 ],\n",
       "       [ 0.00274874, -0.0300154 ],\n",
       "       [ 0.00274874, -0.0300154 ],\n",
       "       [ 0.00274874, -0.0300154 ],\n",
       "       [ 0.00274874, -0.0300154 ],\n",
       "       [ 0.00274874, -0.0300154 ],\n",
       "       [ 0.00274874, -0.0300154 ]], dtype=float32)"
      ]
     },
     "execution_count": 27,
     "metadata": {},
     "output_type": "execute_result"
    }
   ],
   "source": [
    "atom_features.numpy()"
   ]
  },
  {
   "cell_type": "markdown",
   "id": "editorial-trader",
   "metadata": {},
   "source": [
    "## Message Passing Steps\n",
    "The core of a message passing network is to update the features describing the atoms, bonds or molecules using knowledge about how they are all connected.\n",
    "\n",
    "We use [\"gathering\"](https://www.tensorflow.org/api_docs/python/tf/gather), [\"reduction\"](https://www.tensorflow.org/api_docs/python/tf/math/reduce_sum) and [\"segmentation\"](https://www.tensorflow.org/api_docs/python/tf/math#Segmentation) functions to express the update functions in Tensorflow.\n",
    "\n",
    "Our first step is to gather all of the features for the atoms and the beginning at end fo the bonds"
   ]
  },
  {
   "cell_type": "code",
   "execution_count": 28,
   "id": "dependent-genealogy",
   "metadata": {
    "tags": []
   },
   "outputs": [
    {
     "name": "stdout",
     "output_type": "stream",
     "text": [
      "Each array is a shape of (66, 2) because we have 66 bonds in this batch and 2 features per atom\n"
     ]
    }
   ],
   "source": [
    "# `inputs['connectivity']` is the mapping of which atoms are bonded\n",
    "source_atom = tf.gather(atom_features, inputs['connectivity'][:, 0])\n",
    "target_atom = tf.gather(atom_features, inputs['connectivity'][:, 1])\n",
    "print(f'Each array is a shape of {target_atom.shape} because we have {tf.reduce_sum(inputs[\"n_bond\"])} bonds in this batch and 2 features per atom')"
   ]
  },
  {
   "cell_type": "markdown",
   "id": "hazardous-buyer",
   "metadata": {},
   "source": [
    "When then modify the features describing the \"target\" atom based on the bond by, simply, multiplying the features that describe the atom by the features of the bond"
   ]
  },
  {
   "cell_type": "code",
   "execution_count": 29,
   "id": "removable-shoulder",
   "metadata": {
    "tags": []
   },
   "outputs": [
    {
     "data": {
      "text/plain": [
       "<tf.Tensor: shape=(66, 2), dtype=float32, numpy=\n",
       "array([[-1.1904240e-03, -3.8550206e-05],\n",
       "       [-6.7983696e-05,  4.4122263e-04],\n",
       "       [ 9.9095260e-04, -4.3812094e-04],\n",
       "       [-1.1904240e-03, -3.8550206e-05],\n",
       "       [-6.7983696e-05,  4.4122263e-04],\n",
       "       [-6.7983696e-05,  4.4122263e-04],\n",
       "       [ 6.5337366e-04, -5.8904138e-06],\n",
       "       [ 6.5337366e-04, -5.8904138e-06],\n",
       "       [ 3.7313392e-05,  6.7418157e-05],\n",
       "       [ 3.7313392e-05,  6.7418157e-05],\n",
       "       [-1.1904240e-03, -3.8550206e-05],\n",
       "       [-1.1904240e-03, -3.8550206e-05],\n",
       "       [-5.4389221e-04, -6.6944223e-05],\n",
       "       [ 6.5337366e-04, -5.8904138e-06],\n",
       "       [ 6.5337366e-04, -5.8904138e-06],\n",
       "       [ 3.7313392e-05,  6.7418157e-05],\n",
       "       [ 6.5337366e-04, -5.8904138e-06],\n",
       "       [-5.4389221e-04, -6.6944223e-05],\n",
       "       [-2.0427752e-04,  2.3748171e-05],\n",
       "       [-1.1904240e-03, -3.8550206e-05],\n",
       "       [-6.7983696e-05,  4.4122263e-04],\n",
       "       [-1.1904240e-03, -3.8550206e-05],\n",
       "       [ 9.9095260e-04, -4.3812094e-04],\n",
       "       [-1.1904240e-03, -3.8550206e-05],\n",
       "       [-2.0427752e-04,  2.3748171e-05],\n",
       "       [ 9.9095260e-04, -4.3812094e-04],\n",
       "       [-1.1904240e-03, -3.8550206e-05],\n",
       "       [-1.1904240e-03, -3.8550206e-05],\n",
       "       [-1.1904240e-03, -3.8550206e-05],\n",
       "       [-1.1904240e-03, -3.8550206e-05],\n",
       "       [-1.1904240e-03, -3.8550206e-05],\n",
       "       [ 9.9095260e-04, -4.3812094e-04],\n",
       "       [-1.1904240e-03, -3.8550206e-05],\n",
       "       [-6.7983696e-05,  4.4122263e-04],\n",
       "       [-6.7983696e-05,  4.4122263e-04],\n",
       "       [-6.7983696e-05,  4.4122263e-04],\n",
       "       [-1.1904240e-03, -3.8550206e-05],\n",
       "       [ 9.9095260e-04, -4.3812094e-04],\n",
       "       [-7.7418453e-04, -4.4743811e-06],\n",
       "       [-4.4212757e-05,  5.1211089e-05],\n",
       "       [-1.1904240e-03, -3.8550206e-05],\n",
       "       [-1.1904240e-03, -3.8550206e-05],\n",
       "       [ 9.9095260e-04, -4.3812094e-04],\n",
       "       [-2.0427752e-04,  2.3748171e-05],\n",
       "       [-2.0427752e-04,  2.3748171e-05],\n",
       "       [-1.1904240e-03, -3.8550206e-05],\n",
       "       [-6.7983696e-05,  4.4122263e-04],\n",
       "       [-1.1904240e-03, -3.8550206e-05],\n",
       "       [-1.1904240e-03, -3.8550206e-05],\n",
       "       [-1.1904240e-03, -3.8550206e-05],\n",
       "       [-2.0427752e-04,  2.3748171e-05],\n",
       "       [-1.1904240e-03, -3.8550206e-05],\n",
       "       [-6.7983696e-05,  4.4122263e-04],\n",
       "       [-6.7983696e-05,  4.4122263e-04],\n",
       "       [-1.1904240e-03, -3.8550206e-05],\n",
       "       [-2.0427752e-04,  2.3748171e-05],\n",
       "       [-1.1904240e-03, -3.8550206e-05],\n",
       "       [-6.7983696e-05,  4.4122263e-04],\n",
       "       [-1.1904240e-03, -3.8550206e-05],\n",
       "       [-1.1904240e-03, -3.8550206e-05],\n",
       "       [-1.1904240e-03, -3.8550206e-05],\n",
       "       [-1.1904240e-03, -3.8550206e-05],\n",
       "       [-2.0427752e-04,  2.3748171e-05],\n",
       "       [-1.1904240e-03, -3.8550206e-05],\n",
       "       [-1.1904240e-03, -3.8550206e-05],\n",
       "       [-1.1904240e-03, -3.8550206e-05]], dtype=float32)>"
      ]
     },
     "execution_count": 29,
     "metadata": {},
     "output_type": "execute_result"
    }
   ],
   "source": [
    "all_messages = tf.multiply(bond_features, target_atom)\n",
    "all_messages"
   ]
  },
  {
   "cell_type": "markdown",
   "id": "checked-coffee",
   "metadata": {},
   "source": [
    "This new array is the messages from each each bond for each atom. \n",
    "\n",
    "We map it to a single message per atom using `segment_sum`."
   ]
  },
  {
   "cell_type": "code",
   "execution_count": 30,
   "id": "threaded-cigarette",
   "metadata": {
    "tags": []
   },
   "outputs": [
    {
     "data": {
      "text/plain": [
       "<tf.Tensor: shape=(32, 2), dtype=float32, numpy=\n",
       "array([[-1.2584077e-03,  4.0267242e-04],\n",
       "       [-3.3543876e-04,  4.0577410e-04],\n",
       "       [ 1.3813742e-03,  1.2305549e-04],\n",
       "       [-2.9247401e-03, -1.4404464e-04],\n",
       "       [ 1.3440608e-03,  5.5637331e-05],\n",
       "       [-9.4796065e-05, -4.9086462e-05],\n",
       "       [-1.2584077e-03,  4.0267242e-04],\n",
       "       [-1.9947137e-04, -4.7667115e-04],\n",
       "       [-1.3947014e-03, -1.4802035e-05],\n",
       "       [ 9.9095260e-04, -4.3812094e-04],\n",
       "       [-1.1904240e-03, -3.8550206e-05],\n",
       "       [-1.1904240e-03, -3.8550206e-05],\n",
       "       [-1.1904240e-03, -3.8550206e-05],\n",
       "       [-1.1904240e-03, -3.8550206e-05],\n",
       "       [-1.1904240e-03, -3.8550206e-05],\n",
       "       [ 9.9095260e-04, -4.3812094e-04],\n",
       "       [-1.3943752e-03,  1.2851176e-03],\n",
       "       [-1.0178686e-03, -4.2993444e-04],\n",
       "       [-2.3808479e-03, -7.7100412e-05],\n",
       "       [ 5.8239757e-04, -3.9062460e-04],\n",
       "       [-1.2584077e-03,  4.0267242e-04],\n",
       "       [-3.5712719e-03, -1.1565062e-04],\n",
       "       [-1.5306689e-03,  8.6764322e-04],\n",
       "       [-2.6531091e-03,  3.8787039e-04],\n",
       "       [-1.1904240e-03, -3.8550206e-05],\n",
       "       [-1.1904240e-03, -3.8550206e-05],\n",
       "       [-1.1904240e-03, -3.8550206e-05],\n",
       "       [-1.1904240e-03, -3.8550206e-05],\n",
       "       [-2.0427752e-04,  2.3748171e-05],\n",
       "       [-1.1904240e-03, -3.8550206e-05],\n",
       "       [-1.1904240e-03, -3.8550206e-05],\n",
       "       [-1.1904240e-03, -3.8550206e-05]], dtype=float32)>"
      ]
     },
     "execution_count": 30,
     "metadata": {},
     "output_type": "execute_result"
    }
   ],
   "source": [
    "messages = tf.math.segment_sum(all_messages, inputs['connectivity'][:, 0])\n",
    "messages"
   ]
  },
  {
   "cell_type": "markdown",
   "id": "qualified-reporter",
   "metadata": {},
   "source": [
    "The message matrix now has only 37 rows, which corresponds to the number of atoms.\n",
    "\n",
    "Our final step is to update the features for each atom using these messages"
   ]
  },
  {
   "cell_type": "code",
   "execution_count": 31,
   "id": "small-productivity",
   "metadata": {},
   "outputs": [
    {
     "data": {
      "text/plain": [
       "<tf.Tensor: shape=(32, 2), dtype=float32, numpy=\n",
       "array([[-0.04132492,  0.03020707],\n",
       "       [ 0.04779617,  0.00302826],\n",
       "       [ 0.04951299,  0.00274554],\n",
       "       [ 0.04520687,  0.00247844],\n",
       "       [ 0.04947567,  0.00267812],\n",
       "       [ 0.04803681,  0.0025734 ],\n",
       "       [-0.04132492,  0.03020707],\n",
       "       [ 0.00805994, -0.00209221],\n",
       "       [-0.04146122,  0.02978959],\n",
       "       [ 0.00373969, -0.03045352],\n",
       "       [ 0.00155832, -0.03005395],\n",
       "       [ 0.00155832, -0.03005395],\n",
       "       [ 0.00155832, -0.03005395],\n",
       "       [ 0.00155832, -0.03005395],\n",
       "       [ 0.00155832, -0.03005395],\n",
       "       [ 0.00373969, -0.03045352],\n",
       "       [ 0.04673724,  0.0039076 ],\n",
       "       [ 0.04711374,  0.00219255],\n",
       "       [-0.04244737,  0.0297273 ],\n",
       "       [ 0.04871401,  0.00223186],\n",
       "       [ 0.00700101, -0.00121286],\n",
       "       [ 0.00468814, -0.00173119],\n",
       "       [ 0.04660094,  0.00349013],\n",
       "       [ 0.0454785 ,  0.00301036],\n",
       "       [ 0.00155832, -0.03005395],\n",
       "       [ 0.00155832, -0.03005395],\n",
       "       [ 0.00155832, -0.03005395],\n",
       "       [ 0.00155832, -0.03005395],\n",
       "       [ 0.00254446, -0.02999165],\n",
       "       [ 0.00155832, -0.03005395],\n",
       "       [ 0.00155832, -0.03005395],\n",
       "       [ 0.00155832, -0.03005395]], dtype=float32)>"
      ]
     },
     "execution_count": 31,
     "metadata": {},
     "output_type": "execute_result"
    }
   ],
   "source": [
    "atom_features = atom_features + messages\n",
    "atom_features"
   ]
  },
  {
   "cell_type": "markdown",
   "id": "abstract-camping",
   "metadata": {},
   "source": [
    "We now have new features for each atom and note how the first 3 rows are now different. Each atom now has new features because they were each bonded in different ways. "
   ]
  },
  {
   "cell_type": "markdown",
   "id": "thick-employee",
   "metadata": {},
   "source": [
    "## Final Step: Readout\n",
    "Our last step is to take the features for each atom and use them to generate a single prediction per molecule. \n",
    "\n",
    "We use the \"segment_sum\" again, but this time to sum all features for each atom in each molecule rather than each message for each atom. The mapping of which atom belongs to what molecule is stored in `inputs['node_graph_indices']`"
   ]
  },
  {
   "cell_type": "code",
   "execution_count": 32,
   "id": "heard-forum",
   "metadata": {},
   "outputs": [
    {
     "data": {
      "text/plain": [
       "<tf.Tensor: shape=(2, 2), dtype=float32, numpy=\n",
       "array([[ 0.13924836, -0.10956149],\n",
       "       [ 0.2173389 , -0.19875354]], dtype=float32)>"
      ]
     },
     "execution_count": 32,
     "metadata": {},
     "output_type": "execute_result"
    }
   ],
   "source": [
    "mol_features = tf.math.segment_sum(atom_features, inputs[\"node_graph_indices\"])\n",
    "mol_features"
   ]
  },
  {
   "cell_type": "markdown",
   "id": "fatal-collection",
   "metadata": {},
   "source": [
    "Great! We now have only two features per molecule. To map them to a single predicted value, we use a [Dense layer](https://keras.io/api/layers/core_layers/dense/)."
   ]
  },
  {
   "cell_type": "code",
   "execution_count": 33,
   "id": "sudden-front",
   "metadata": {},
   "outputs": [
    {
     "data": {
      "text/plain": [
       "<tf.Tensor: shape=(2, 1), dtype=float32, numpy=\n",
       "array([[0.13705447],\n",
       "       [0.21205246]], dtype=float32)>"
      ]
     },
     "execution_count": 33,
     "metadata": {},
     "output_type": "execute_result"
    }
   ],
   "source": [
    "output = layers.Dense(1, activation='linear')\n",
    "mol_pred = output(mol_features)\n",
    "mol_pred"
   ]
  },
  {
   "cell_type": "markdown",
   "id": "communist-trustee",
   "metadata": {},
   "source": [
    "We are now down to a single prediction per molecule"
   ]
  },
  {
   "cell_type": "markdown",
   "id": "powerful-folder",
   "metadata": {},
   "source": [
    "## String it all together with Keras\n",
    "The above cells show the computations that form an MPNN, but are not convenient to use. \n",
    "Keras [Layers](https://keras.io/api/layers/) and [Models](https://keras.io/api/models/) allow you to describe the computations and how they are connected to each other.\n",
    "\n",
    "### Building Layers\n",
    "\n",
    "Some of our steps above already using Keras layers (e.g., `Embedding`). Others use base Tensorflow operations, which we must combine to form Layers so that Keras can keep track of the computations for us.\n",
    "\n",
    "We do that by implementing a new \"Layer\" in Keras. As describe in the [Keras docs](https://keras.io/guides/making_new_layers_and_models_via_subclassing/), these layers define the calculations performed for a certain step in network and, in many cases, the weights associated with the calculations. For simplicity, I do not add any training weights."
   ]
  },
  {
   "cell_type": "code",
   "execution_count": 34,
   "id": "regional-namibia",
   "metadata": {},
   "outputs": [],
   "source": [
    "class MessagePassingLayer(layers.Layer):\n",
    "    \"\"\"Perform the message passing step\"\"\"\n",
    "\n",
    "    def call(self, atom_features, bond_features, connectivity):\n",
    "        \"\"\"Perform the message passing steps.\n",
    "        \n",
    "        Takes the atom and bond features with the connectivity as inputs\n",
    "        and produces a new set of atom features.\n",
    "        \"\"\"\n",
    "        # Get the features for the atoms at each side of a bond\n",
    "        source_atom = tf.gather(atom_features, connectivity[:, 0])\n",
    "        target_atom = tf.gather(atom_features, connectivity[:, 1])\n",
    "\n",
    "        # Make messages based on the \"far side\" of the bond and the bond type\n",
    "        all_messages = tf.multiply(bond_features, target_atom)\n",
    "\n",
    "        # Sum them up and add them to the original features\n",
    "        messages = tf.math.segment_sum(all_messages, connectivity[:, 0])\n",
    "        atom_features = atom_features + messages\n",
    "        return atom_features"
   ]
  },
  {
   "cell_type": "markdown",
   "id": "french-penguin",
   "metadata": {},
   "source": [
    "Run it to see how it behaves like our previous collection of 3 different cells!"
   ]
  },
  {
   "cell_type": "code",
   "execution_count": 35,
   "id": "adjusted-sword",
   "metadata": {},
   "outputs": [],
   "source": [
    "mp = MessagePassingLayer()"
   ]
  },
  {
   "cell_type": "code",
   "execution_count": 36,
   "id": "complete-sender",
   "metadata": {},
   "outputs": [
    {
     "data": {
      "text/plain": [
       "<tf.Tensor: shape=(32, 2), dtype=float32, numpy=\n",
       "array([[-0.04259954,  0.03061022],\n",
       "       [ 0.04751658,  0.00342744],\n",
       "       [ 0.05081778,  0.00286818],\n",
       "       [ 0.04219579,  0.0023318 ],\n",
       "       [ 0.05076259,  0.00273428],\n",
       "       [ 0.04794811,  0.00253029],\n",
       "       [-0.0426055 ,  0.0306169 ],\n",
       "       [ 0.00789731, -0.00256794],\n",
       "       [-0.04277865,  0.02978392],\n",
       "       [ 0.00476177, -0.03089756],\n",
       "       [ 0.00037619, -0.03009846],\n",
       "       [ 0.00037619, -0.03009846],\n",
       "       [ 0.00033373, -0.03009431],\n",
       "       [ 0.00033373, -0.03009431],\n",
       "       [ 0.00033465, -0.03009332],\n",
       "       [ 0.00476177, -0.03089756],\n",
       "       [ 0.04545636,  0.00520074],\n",
       "       [ 0.04625107,  0.00174426],\n",
       "       [-0.04481744,  0.02966226],\n",
       "       [ 0.04947474,  0.00183815],\n",
       "       [ 0.00573325, -0.0008048 ],\n",
       "       [ 0.00120594, -0.00185955],\n",
       "       [ 0.0452831 ,  0.0043549 ],\n",
       "       [ 0.04300619,  0.00339406],\n",
       "       [ 0.00040238, -0.03011139],\n",
       "       [ 0.00040238, -0.03011139],\n",
       "       [ 0.00040238, -0.03011139],\n",
       "       [ 0.00039307, -0.03008618],\n",
       "       [ 0.00237131, -0.02997382],\n",
       "       [ 0.00040575, -0.03010525],\n",
       "       [ 0.00040575, -0.03010525],\n",
       "       [ 0.00043351, -0.0300982 ]], dtype=float32)>"
      ]
     },
     "execution_count": 36,
     "metadata": {},
     "output_type": "execute_result"
    }
   ],
   "source": [
    "mp(atom_features, bond_features, inputs[\"connectivity\"])"
   ]
  },
  {
   "cell_type": "markdown",
   "id": "billion-swaziland",
   "metadata": {},
   "source": [
    "The other base tensorflow method we need to wrap is `tf.math.segment_sum` when we use it to make the molecule property.\n"
   ]
  },
  {
   "cell_type": "code",
   "execution_count": 37,
   "id": "excess-index",
   "metadata": {},
   "outputs": [],
   "source": [
    "class Readout(layers.Layer):\n",
    "    \"\"\"Convert atomic to molecular features\"\"\"\n",
    "    \n",
    "    def call(self, atom_features, node_graph_indices):\n",
    "        return tf.math.segment_sum(atom_features, node_graph_indices)"
   ]
  },
  {
   "cell_type": "code",
   "execution_count": 38,
   "id": "color-debate",
   "metadata": {},
   "outputs": [
    {
     "data": {
      "text/plain": [
       "<tf.Tensor: shape=(2, 2), dtype=float32, numpy=\n",
       "array([[ 0.13924836, -0.10956149],\n",
       "       [ 0.2173389 , -0.19875354]], dtype=float32)>"
      ]
     },
     "execution_count": 38,
     "metadata": {},
     "output_type": "execute_result"
    }
   ],
   "source": [
    "r = Readout()\n",
    "r(atom_features, inputs[\"node_graph_indices\"])"
   ]
  },
  {
   "cell_type": "markdown",
   "id": "deluxe-increase",
   "metadata": {},
   "source": [
    "Also just like before!"
   ]
  },
  {
   "cell_type": "markdown",
   "id": "ignored-disney",
   "metadata": {},
   "source": [
    "### Stringing Layers together into a Model\n",
    "The Keras Model lets us define how information flows from one step to another. We are going to make a function to describe how to connect layers using Keras's [functional API](https://keras.io/guides/functional_api/)"
   ]
  },
  {
   "cell_type": "code",
   "execution_count": 39,
   "id": "considered-control",
   "metadata": {
    "tags": []
   },
   "outputs": [],
   "source": [
    "def make_model(num_features: int, num_messages: int):\n",
    "    \"\"\"Build an MPNN\n",
    "    \n",
    "    \n",
    "    Args:\n",
    "        num_features: Number of features to use to describe each atom and bond\n",
    "        num_messages: Number of message passing steps\n",
    "    Returns:\n",
    "        Keras models that generate molecule property\n",
    "    \"\"\"\n",
    "    \n",
    "    # The first step is to define which inputs to expand and their shapes/types\n",
    "    node_graph_indices = layers.Input(shape=(1,), name='node_graph_indices', dtype='int32')\n",
    "    atom_types = layers.Input(shape=(1,), name='atom', dtype='int32')\n",
    "    bond_types = layers.Input(shape=(1,), name='bond', dtype='int32')\n",
    "    connectivity = layers.Input(shape=(2,), name='connectivity', dtype='int32')\n",
    "\n",
    "    # Squeeze the node graph and connectivity matrices\n",
    "    #  Keras makes all input arrays 2D, I find it easier to deal with them as 1D vectors\n",
    "    #  The squeeze operation removes the second dimension, and I use Kera's Lambda layer\n",
    "    #  to quickly wrap a simple Tensorflow function\n",
    "    squeeze = layers.Lambda(tf.squeeze, arguments={'axis': 1}, name='squeeze')\n",
    "    snode_graph_indices = squeeze(node_graph_indices)\n",
    "    satom_types = squeeze(atom_types)\n",
    "    sbond_types = squeeze(bond_types)\n",
    "    \n",
    "    # Generate initial features for each atom and bond using embeddings\n",
    "    atom_features = layers.Embedding(6, num_features, name='atom_embedding')(satom_types)\n",
    "    bond_features = layers.Embedding(4, num_features, name='bond_embedding')(sbond_types)\n",
    "    \n",
    "    # Perform a few message passing steps\n",
    "    message_layer = MessagePassingLayer(name='message_passing')\n",
    "    for _ in range(num_messages):\n",
    "        atom_features = message_layer(atom_features, bond_features, connectivity)\n",
    "        \n",
    "    # Reduce to a single set of features per molecule\n",
    "    mol_features = Readout(name='readout')(atom_features, snode_graph_indices)\n",
    "    \n",
    "    # Create the output layer\n",
    "    output = layers.Dense(1, activation='linear', name='output')(mol_features)\n",
    "    \n",
    "    # Create the models by defining which layers are the inputs and which are the outputs\n",
    "    model = Model(inputs=[node_graph_indices, atom_types, bond_types, connectivity], outputs=output)\n",
    "    return model"
   ]
  },
  {
   "cell_type": "markdown",
   "id": "naughty-bridge",
   "metadata": {},
   "source": [
    "Walk through this summary to make sure you understand it. It should be exactly the workflow that we have earlier."
   ]
  },
  {
   "cell_type": "code",
   "execution_count": 61,
   "id": "previous-phrase",
   "metadata": {
    "tags": []
   },
   "outputs": [
    {
     "name": "stdout",
     "output_type": "stream",
     "text": [
      "Model: \"functional_3\"\n",
      "__________________________________________________________________________________________________\n",
      "Layer (type)                    Output Shape         Param #     Connected to                     \n",
      "==================================================================================================\n",
      "atom (InputLayer)               [(None, 1)]          0                                            \n",
      "__________________________________________________________________________________________________\n",
      "bond (InputLayer)               [(None, 1)]          0                                            \n",
      "__________________________________________________________________________________________________\n",
      "squeeze (Lambda)                (None,)              0           node_graph_indices[0][0]         \n",
      "                                                                 atom[0][0]                       \n",
      "                                                                 bond[0][0]                       \n",
      "__________________________________________________________________________________________________\n",
      "atom_embedding (Embedding)      (None, 2)            12          squeeze[1][0]                    \n",
      "__________________________________________________________________________________________________\n",
      "bond_embedding (Embedding)      (None, 2)            8           squeeze[2][0]                    \n",
      "__________________________________________________________________________________________________\n",
      "connectivity (InputLayer)       [(None, 2)]          0                                            \n",
      "__________________________________________________________________________________________________\n",
      "node_graph_indices (InputLayer) [(None, 1)]          0                                            \n",
      "__________________________________________________________________________________________________\n",
      "message_passing (MessagePassing (None, 2)            0           atom_embedding[0][0]             \n",
      "                                                                 bond_embedding[0][0]             \n",
      "                                                                 connectivity[0][0]               \n",
      "__________________________________________________________________________________________________\n",
      "readout (Readout)               (None, 2)            0           message_passing[0][0]            \n",
      "                                                                 squeeze[0][0]                    \n",
      "__________________________________________________________________________________________________\n",
      "output (Dense)                  (None, 1)            3           readout[0][0]                    \n",
      "==================================================================================================\n",
      "Total params: 23\n",
      "Trainable params: 23\n",
      "Non-trainable params: 0\n",
      "__________________________________________________________________________________________________\n"
     ]
    }
   ],
   "source": [
    "model = make_model(2, 1)\n",
    "model.summary()"
   ]
  },
  {
   "cell_type": "markdown",
   "id": "cathedral-child",
   "metadata": {},
   "source": [
    "Train it"
   ]
  },
  {
   "cell_type": "code",
   "execution_count": 64,
   "id": "empty-generation",
   "metadata": {},
   "outputs": [
    {
     "name": "stdout",
     "output_type": "stream",
     "text": [
      "Epoch 1/16\n",
      "10125/10125 [==============================] - 6s 618us/step - loss: 0.0198\n",
      "Epoch 2/16\n",
      "10125/10125 [==============================] - 6s 614us/step - loss: 0.0016\n",
      "Epoch 3/16\n",
      "10125/10125 [==============================] - 6s 602us/step - loss: 0.0015\n",
      "Epoch 4/16\n",
      "10125/10125 [==============================] - 6s 593us/step - loss: 0.0015\n",
      "Epoch 5/16\n",
      "10125/10125 [==============================] - 6s 600us/step - loss: 0.0015\n",
      "Epoch 6/16\n",
      "10125/10125 [==============================] - 6s 603us/step - loss: 0.0014\n",
      "Epoch 7/16\n",
      "10125/10125 [==============================] - 6s 603us/step - loss: 0.0014\n",
      "Epoch 8/16\n",
      "10125/10125 [==============================] - 6s 603us/step - loss: 0.0014\n",
      "Epoch 9/16\n",
      "10125/10125 [==============================] - 6s 602us/step - loss: 0.0014\n",
      "Epoch 10/16\n",
      " 7720/10125 [=====================>........] - ETA: 1s - loss: 0.0014"
     ]
    },
    {
     "ename": "KeyboardInterrupt",
     "evalue": "",
     "output_type": "error",
     "traceback": [
      "\u001b[0;31m---------------------------------------------------------------------------\u001b[0m",
      "\u001b[0;31mKeyboardInterrupt\u001b[0m                         Traceback (most recent call last)",
      "\u001b[0;32m/tmp/ipykernel_252/4132716116.py\u001b[0m in \u001b[0;36m<module>\u001b[0;34m\u001b[0m\n\u001b[1;32m      1\u001b[0m \u001b[0mmodel\u001b[0m\u001b[0;34m.\u001b[0m\u001b[0mcompile\u001b[0m\u001b[0;34m(\u001b[0m\u001b[0mloss\u001b[0m\u001b[0;34m=\u001b[0m\u001b[0;34m'mean_squared_error'\u001b[0m\u001b[0;34m)\u001b[0m\u001b[0;34m\u001b[0m\u001b[0;34m\u001b[0m\u001b[0m\n\u001b[0;32m----> 2\u001b[0;31m \u001b[0mmodel\u001b[0m\u001b[0;34m.\u001b[0m\u001b[0mfit\u001b[0m\u001b[0;34m(\u001b[0m\u001b[0mloader\u001b[0m\u001b[0;34m,\u001b[0m \u001b[0mepochs\u001b[0m\u001b[0;34m=\u001b[0m\u001b[0;36m16\u001b[0m\u001b[0;34m)\u001b[0m\u001b[0;34m\u001b[0m\u001b[0;34m\u001b[0m\u001b[0m\n\u001b[0m",
      "\u001b[0;32m~/miniconda3/envs/molml/lib/python3.7/site-packages/tensorflow/python/keras/engine/training.py\u001b[0m in \u001b[0;36m_method_wrapper\u001b[0;34m(self, *args, **kwargs)\u001b[0m\n\u001b[1;32m    106\u001b[0m   \u001b[0;32mdef\u001b[0m \u001b[0m_method_wrapper\u001b[0m\u001b[0;34m(\u001b[0m\u001b[0mself\u001b[0m\u001b[0;34m,\u001b[0m \u001b[0;34m*\u001b[0m\u001b[0margs\u001b[0m\u001b[0;34m,\u001b[0m \u001b[0;34m**\u001b[0m\u001b[0mkwargs\u001b[0m\u001b[0;34m)\u001b[0m\u001b[0;34m:\u001b[0m\u001b[0;34m\u001b[0m\u001b[0;34m\u001b[0m\u001b[0m\n\u001b[1;32m    107\u001b[0m     \u001b[0;32mif\u001b[0m \u001b[0;32mnot\u001b[0m \u001b[0mself\u001b[0m\u001b[0;34m.\u001b[0m\u001b[0m_in_multi_worker_mode\u001b[0m\u001b[0;34m(\u001b[0m\u001b[0;34m)\u001b[0m\u001b[0;34m:\u001b[0m  \u001b[0;31m# pylint: disable=protected-access\u001b[0m\u001b[0;34m\u001b[0m\u001b[0;34m\u001b[0m\u001b[0m\n\u001b[0;32m--> 108\u001b[0;31m       \u001b[0;32mreturn\u001b[0m \u001b[0mmethod\u001b[0m\u001b[0;34m(\u001b[0m\u001b[0mself\u001b[0m\u001b[0;34m,\u001b[0m \u001b[0;34m*\u001b[0m\u001b[0margs\u001b[0m\u001b[0;34m,\u001b[0m \u001b[0;34m**\u001b[0m\u001b[0mkwargs\u001b[0m\u001b[0;34m)\u001b[0m\u001b[0;34m\u001b[0m\u001b[0;34m\u001b[0m\u001b[0m\n\u001b[0m\u001b[1;32m    109\u001b[0m \u001b[0;34m\u001b[0m\u001b[0m\n\u001b[1;32m    110\u001b[0m     \u001b[0;31m# Running inside `run_distribute_coordinator` already.\u001b[0m\u001b[0;34m\u001b[0m\u001b[0;34m\u001b[0m\u001b[0;34m\u001b[0m\u001b[0m\n",
      "\u001b[0;32m~/miniconda3/envs/molml/lib/python3.7/site-packages/tensorflow/python/keras/engine/training.py\u001b[0m in \u001b[0;36mfit\u001b[0;34m(self, x, y, batch_size, epochs, verbose, callbacks, validation_split, validation_data, shuffle, class_weight, sample_weight, initial_epoch, steps_per_epoch, validation_steps, validation_batch_size, validation_freq, max_queue_size, workers, use_multiprocessing)\u001b[0m\n\u001b[1;32m   1096\u001b[0m                 batch_size=batch_size):\n\u001b[1;32m   1097\u001b[0m               \u001b[0mcallbacks\u001b[0m\u001b[0;34m.\u001b[0m\u001b[0mon_train_batch_begin\u001b[0m\u001b[0;34m(\u001b[0m\u001b[0mstep\u001b[0m\u001b[0;34m)\u001b[0m\u001b[0;34m\u001b[0m\u001b[0;34m\u001b[0m\u001b[0m\n\u001b[0;32m-> 1098\u001b[0;31m               \u001b[0mtmp_logs\u001b[0m \u001b[0;34m=\u001b[0m \u001b[0mtrain_function\u001b[0m\u001b[0;34m(\u001b[0m\u001b[0miterator\u001b[0m\u001b[0;34m)\u001b[0m\u001b[0;34m\u001b[0m\u001b[0;34m\u001b[0m\u001b[0m\n\u001b[0m\u001b[1;32m   1099\u001b[0m               \u001b[0;32mif\u001b[0m \u001b[0mdata_handler\u001b[0m\u001b[0;34m.\u001b[0m\u001b[0mshould_sync\u001b[0m\u001b[0;34m:\u001b[0m\u001b[0;34m\u001b[0m\u001b[0;34m\u001b[0m\u001b[0m\n\u001b[1;32m   1100\u001b[0m                 \u001b[0mcontext\u001b[0m\u001b[0;34m.\u001b[0m\u001b[0masync_wait\u001b[0m\u001b[0;34m(\u001b[0m\u001b[0;34m)\u001b[0m\u001b[0;34m\u001b[0m\u001b[0;34m\u001b[0m\u001b[0m\n",
      "\u001b[0;32m~/miniconda3/envs/molml/lib/python3.7/site-packages/tensorflow/python/eager/def_function.py\u001b[0m in \u001b[0;36m__call__\u001b[0;34m(self, *args, **kwds)\u001b[0m\n\u001b[1;32m    778\u001b[0m       \u001b[0;32melse\u001b[0m\u001b[0;34m:\u001b[0m\u001b[0;34m\u001b[0m\u001b[0;34m\u001b[0m\u001b[0m\n\u001b[1;32m    779\u001b[0m         \u001b[0mcompiler\u001b[0m \u001b[0;34m=\u001b[0m \u001b[0;34m\"nonXla\"\u001b[0m\u001b[0;34m\u001b[0m\u001b[0;34m\u001b[0m\u001b[0m\n\u001b[0;32m--> 780\u001b[0;31m         \u001b[0mresult\u001b[0m \u001b[0;34m=\u001b[0m \u001b[0mself\u001b[0m\u001b[0;34m.\u001b[0m\u001b[0m_call\u001b[0m\u001b[0;34m(\u001b[0m\u001b[0;34m*\u001b[0m\u001b[0margs\u001b[0m\u001b[0;34m,\u001b[0m \u001b[0;34m**\u001b[0m\u001b[0mkwds\u001b[0m\u001b[0;34m)\u001b[0m\u001b[0;34m\u001b[0m\u001b[0;34m\u001b[0m\u001b[0m\n\u001b[0m\u001b[1;32m    781\u001b[0m \u001b[0;34m\u001b[0m\u001b[0m\n\u001b[1;32m    782\u001b[0m       \u001b[0mnew_tracing_count\u001b[0m \u001b[0;34m=\u001b[0m \u001b[0mself\u001b[0m\u001b[0;34m.\u001b[0m\u001b[0m_get_tracing_count\u001b[0m\u001b[0;34m(\u001b[0m\u001b[0;34m)\u001b[0m\u001b[0;34m\u001b[0m\u001b[0;34m\u001b[0m\u001b[0m\n",
      "\u001b[0;32m~/miniconda3/envs/molml/lib/python3.7/site-packages/tensorflow/python/eager/def_function.py\u001b[0m in \u001b[0;36m_call\u001b[0;34m(self, *args, **kwds)\u001b[0m\n\u001b[1;32m    805\u001b[0m       \u001b[0;31m# In this case we have created variables on the first call, so we run the\u001b[0m\u001b[0;34m\u001b[0m\u001b[0;34m\u001b[0m\u001b[0;34m\u001b[0m\u001b[0m\n\u001b[1;32m    806\u001b[0m       \u001b[0;31m# defunned version which is guaranteed to never create variables.\u001b[0m\u001b[0;34m\u001b[0m\u001b[0;34m\u001b[0m\u001b[0;34m\u001b[0m\u001b[0m\n\u001b[0;32m--> 807\u001b[0;31m       \u001b[0;32mreturn\u001b[0m \u001b[0mself\u001b[0m\u001b[0;34m.\u001b[0m\u001b[0m_stateless_fn\u001b[0m\u001b[0;34m(\u001b[0m\u001b[0;34m*\u001b[0m\u001b[0margs\u001b[0m\u001b[0;34m,\u001b[0m \u001b[0;34m**\u001b[0m\u001b[0mkwds\u001b[0m\u001b[0;34m)\u001b[0m  \u001b[0;31m# pylint: disable=not-callable\u001b[0m\u001b[0;34m\u001b[0m\u001b[0;34m\u001b[0m\u001b[0m\n\u001b[0m\u001b[1;32m    808\u001b[0m     \u001b[0;32melif\u001b[0m \u001b[0mself\u001b[0m\u001b[0;34m.\u001b[0m\u001b[0m_stateful_fn\u001b[0m \u001b[0;32mis\u001b[0m \u001b[0;32mnot\u001b[0m \u001b[0;32mNone\u001b[0m\u001b[0;34m:\u001b[0m\u001b[0;34m\u001b[0m\u001b[0;34m\u001b[0m\u001b[0m\n\u001b[1;32m    809\u001b[0m       \u001b[0;31m# Release the lock early so that multiple threads can perform the call\u001b[0m\u001b[0;34m\u001b[0m\u001b[0;34m\u001b[0m\u001b[0;34m\u001b[0m\u001b[0m\n",
      "\u001b[0;32m~/miniconda3/envs/molml/lib/python3.7/site-packages/tensorflow/python/eager/function.py\u001b[0m in \u001b[0;36m__call__\u001b[0;34m(self, *args, **kwargs)\u001b[0m\n\u001b[1;32m   2827\u001b[0m     \u001b[0;32mwith\u001b[0m \u001b[0mself\u001b[0m\u001b[0;34m.\u001b[0m\u001b[0m_lock\u001b[0m\u001b[0;34m:\u001b[0m\u001b[0;34m\u001b[0m\u001b[0;34m\u001b[0m\u001b[0m\n\u001b[1;32m   2828\u001b[0m       \u001b[0mgraph_function\u001b[0m\u001b[0;34m,\u001b[0m \u001b[0margs\u001b[0m\u001b[0;34m,\u001b[0m \u001b[0mkwargs\u001b[0m \u001b[0;34m=\u001b[0m \u001b[0mself\u001b[0m\u001b[0;34m.\u001b[0m\u001b[0m_maybe_define_function\u001b[0m\u001b[0;34m(\u001b[0m\u001b[0margs\u001b[0m\u001b[0;34m,\u001b[0m \u001b[0mkwargs\u001b[0m\u001b[0;34m)\u001b[0m\u001b[0;34m\u001b[0m\u001b[0;34m\u001b[0m\u001b[0m\n\u001b[0;32m-> 2829\u001b[0;31m     \u001b[0;32mreturn\u001b[0m \u001b[0mgraph_function\u001b[0m\u001b[0;34m.\u001b[0m\u001b[0m_filtered_call\u001b[0m\u001b[0;34m(\u001b[0m\u001b[0margs\u001b[0m\u001b[0;34m,\u001b[0m \u001b[0mkwargs\u001b[0m\u001b[0;34m)\u001b[0m  \u001b[0;31m# pylint: disable=protected-access\u001b[0m\u001b[0;34m\u001b[0m\u001b[0;34m\u001b[0m\u001b[0m\n\u001b[0m\u001b[1;32m   2830\u001b[0m \u001b[0;34m\u001b[0m\u001b[0m\n\u001b[1;32m   2831\u001b[0m   \u001b[0;34m@\u001b[0m\u001b[0mproperty\u001b[0m\u001b[0;34m\u001b[0m\u001b[0;34m\u001b[0m\u001b[0m\n",
      "\u001b[0;32m~/miniconda3/envs/molml/lib/python3.7/site-packages/tensorflow/python/eager/function.py\u001b[0m in \u001b[0;36m_filtered_call\u001b[0;34m(self, args, kwargs, cancellation_manager)\u001b[0m\n\u001b[1;32m   1846\u001b[0m                            resource_variable_ops.BaseResourceVariable))],\n\u001b[1;32m   1847\u001b[0m         \u001b[0mcaptured_inputs\u001b[0m\u001b[0;34m=\u001b[0m\u001b[0mself\u001b[0m\u001b[0;34m.\u001b[0m\u001b[0mcaptured_inputs\u001b[0m\u001b[0;34m,\u001b[0m\u001b[0;34m\u001b[0m\u001b[0;34m\u001b[0m\u001b[0m\n\u001b[0;32m-> 1848\u001b[0;31m         cancellation_manager=cancellation_manager)\n\u001b[0m\u001b[1;32m   1849\u001b[0m \u001b[0;34m\u001b[0m\u001b[0m\n\u001b[1;32m   1850\u001b[0m   \u001b[0;32mdef\u001b[0m \u001b[0m_call_flat\u001b[0m\u001b[0;34m(\u001b[0m\u001b[0mself\u001b[0m\u001b[0;34m,\u001b[0m \u001b[0margs\u001b[0m\u001b[0;34m,\u001b[0m \u001b[0mcaptured_inputs\u001b[0m\u001b[0;34m,\u001b[0m \u001b[0mcancellation_manager\u001b[0m\u001b[0;34m=\u001b[0m\u001b[0;32mNone\u001b[0m\u001b[0;34m)\u001b[0m\u001b[0;34m:\u001b[0m\u001b[0;34m\u001b[0m\u001b[0;34m\u001b[0m\u001b[0m\n",
      "\u001b[0;32m~/miniconda3/envs/molml/lib/python3.7/site-packages/tensorflow/python/eager/function.py\u001b[0m in \u001b[0;36m_call_flat\u001b[0;34m(self, args, captured_inputs, cancellation_manager)\u001b[0m\n\u001b[1;32m   1922\u001b[0m       \u001b[0;31m# No tape is watching; skip to running the function.\u001b[0m\u001b[0;34m\u001b[0m\u001b[0;34m\u001b[0m\u001b[0;34m\u001b[0m\u001b[0m\n\u001b[1;32m   1923\u001b[0m       return self._build_call_outputs(self._inference_function.call(\n\u001b[0;32m-> 1924\u001b[0;31m           ctx, args, cancellation_manager=cancellation_manager))\n\u001b[0m\u001b[1;32m   1925\u001b[0m     forward_backward = self._select_forward_and_backward_functions(\n\u001b[1;32m   1926\u001b[0m         \u001b[0margs\u001b[0m\u001b[0;34m,\u001b[0m\u001b[0;34m\u001b[0m\u001b[0;34m\u001b[0m\u001b[0m\n",
      "\u001b[0;32m~/miniconda3/envs/molml/lib/python3.7/site-packages/tensorflow/python/eager/function.py\u001b[0m in \u001b[0;36mcall\u001b[0;34m(self, ctx, args, cancellation_manager)\u001b[0m\n\u001b[1;32m    548\u001b[0m               \u001b[0minputs\u001b[0m\u001b[0;34m=\u001b[0m\u001b[0margs\u001b[0m\u001b[0;34m,\u001b[0m\u001b[0;34m\u001b[0m\u001b[0;34m\u001b[0m\u001b[0m\n\u001b[1;32m    549\u001b[0m               \u001b[0mattrs\u001b[0m\u001b[0;34m=\u001b[0m\u001b[0mattrs\u001b[0m\u001b[0;34m,\u001b[0m\u001b[0;34m\u001b[0m\u001b[0;34m\u001b[0m\u001b[0m\n\u001b[0;32m--> 550\u001b[0;31m               ctx=ctx)\n\u001b[0m\u001b[1;32m    551\u001b[0m         \u001b[0;32melse\u001b[0m\u001b[0;34m:\u001b[0m\u001b[0;34m\u001b[0m\u001b[0;34m\u001b[0m\u001b[0m\n\u001b[1;32m    552\u001b[0m           outputs = execute.execute_with_cancellation(\n",
      "\u001b[0;32m~/miniconda3/envs/molml/lib/python3.7/site-packages/tensorflow/python/eager/execute.py\u001b[0m in \u001b[0;36mquick_execute\u001b[0;34m(op_name, num_outputs, inputs, attrs, ctx, name)\u001b[0m\n\u001b[1;32m     58\u001b[0m     \u001b[0mctx\u001b[0m\u001b[0;34m.\u001b[0m\u001b[0mensure_initialized\u001b[0m\u001b[0;34m(\u001b[0m\u001b[0;34m)\u001b[0m\u001b[0;34m\u001b[0m\u001b[0;34m\u001b[0m\u001b[0m\n\u001b[1;32m     59\u001b[0m     tensors = pywrap_tfe.TFE_Py_Execute(ctx._handle, device_name, op_name,\n\u001b[0;32m---> 60\u001b[0;31m                                         inputs, attrs, num_outputs)\n\u001b[0m\u001b[1;32m     61\u001b[0m   \u001b[0;32mexcept\u001b[0m \u001b[0mcore\u001b[0m\u001b[0;34m.\u001b[0m\u001b[0m_NotOkStatusException\u001b[0m \u001b[0;32mas\u001b[0m \u001b[0me\u001b[0m\u001b[0;34m:\u001b[0m\u001b[0;34m\u001b[0m\u001b[0;34m\u001b[0m\u001b[0m\n\u001b[1;32m     62\u001b[0m     \u001b[0;32mif\u001b[0m \u001b[0mname\u001b[0m \u001b[0;32mis\u001b[0m \u001b[0;32mnot\u001b[0m \u001b[0;32mNone\u001b[0m\u001b[0;34m:\u001b[0m\u001b[0;34m\u001b[0m\u001b[0;34m\u001b[0m\u001b[0m\n",
      "\u001b[0;31mKeyboardInterrupt\u001b[0m: "
     ]
    }
   ],
   "source": [
    "model.compile(loss='mean_squared_error')\n",
    "model.fit(loader, epochs=16)"
   ]
  },
  {
   "cell_type": "markdown",
   "id": "reasonable-surname",
   "metadata": {},
   "source": [
    "See how we did"
   ]
  },
  {
   "cell_type": "code",
   "execution_count": 42,
   "id": "integral-israel",
   "metadata": {},
   "outputs": [],
   "source": [
    "y_true = np.hstack([x[1] for x in loader])  # Pulls data out of the data loader"
   ]
  },
  {
   "cell_type": "code",
   "execution_count": 43,
   "id": "exempt-powder",
   "metadata": {},
   "outputs": [],
   "source": [
    "y_pred = model.predict(loader)"
   ]
  },
  {
   "cell_type": "code",
   "execution_count": 44,
   "id": "hollow-retreat",
   "metadata": {},
   "outputs": [
    {
     "data": {
      "text/plain": [
       "Text(0, 0.5, '$E_{atom}$, ML (Ha)')"
      ]
     },
     "execution_count": 44,
     "metadata": {},
     "output_type": "execute_result"
    },
    {
     "data": {
      "image/png": "[encoded data removed]",
      "text/plain": [
       "<Figure size 432x288 with 1 Axes>"
      ]
     },
     "metadata": {
      "needs_background": "light"
     },
     "output_type": "display_data"
    }
   ],
   "source": [
    "fig, ax = plt.subplots()\n",
    "ax.scatter(y_pred, y_true)\n",
    "ax.set_xlabel('$E_{atom}$, DFT (Ha)')\n",
    "ax.set_ylabel('$E_{atom}$, ML (Ha)')"
   ]
  },
  {
   "cell_type": "markdown",
   "id": "endless-niagara",
   "metadata": {},
   "source": [
    "Not bad for a model with 23 parameters!"
   ]
  },
  {
   "cell_type": "code",
   "execution_count": 66,
   "id": "62600d3b-447f-4cac-9d5d-cbb21afff222",
   "metadata": {},
   "outputs": [],
   "source": [
    "layer = model.get_layer('atom_embedding')"
   ]
  },
  {
   "cell_type": "code",
   "execution_count": 49,
   "id": "e1c4ec58-0359-4bbf-9481-fa30dbebaaaf",
   "metadata": {},
   "outputs": [],
   "source": []
  },
  {
   "cell_type": "code",
   "execution_count": null,
   "id": "3c681059-cebb-4876-9d0b-ef95cd316591",
   "metadata": {},
   "outputs": [],
   "source": []
  },
  {
   "cell_type": "code",
   "execution_count": 58,
   "id": "5ea4008c-6f0a-42ce-b211-dfcd38656dfa",
   "metadata": {},
   "outputs": [
    {
     "data": {
      "text/plain": [
       "(6, 2)"
      ]
     },
     "execution_count": 58,
     "metadata": {},
     "output_type": "execute_result"
    }
   ],
   "source": [
    "weights.shape"
   ]
  },
  {
   "cell_type": "code",
   "execution_count": 67,
   "id": "reserved-connection",
   "metadata": {},
   "outputs": [
    {
     "data": {
      "text/plain": [
       "<matplotlib.legend.Legend at 0x7f307c1f11d0>"
      ]
     },
     "execution_count": 67,
     "metadata": {},
     "output_type": "execute_result"
    },
    {
     "data": {
      "image/png": "[encoded data removed]",
      "text/plain": [
       "<Figure size 432x288 with 1 Axes>"
      ]
     },
     "metadata": {
      "needs_background": "light"
     },
     "output_type": "display_data"
    }
   ],
   "source": [
    "fig, ax = plt.subplots()\n",
    "\n",
    "weights = layer.get_weights()[0]\n",
    "for x, y, l in zip(weights[:, 0], weights[:, 1], ['H', 'C', 'N', 'O', 'F', '']):\n",
    "    ax.scatter(x, y, label=l)\n",
    "\n",
    "ax.legend()"
   ]
  },
  {
   "cell_type": "code",
   "execution_count": null,
   "id": "edfd6116-8d58-4478-ba96-72d211e012e4",
   "metadata": {},
   "outputs": [],
   "source": []
  }
 ],
 "metadata": {
  "kernelspec": {
   "display_name": "Python 3 (ipykernel)",
   "language": "python",
   "name": "python3"
  },
  "language_info": {
   "codemirror_mode": {
    "name": "ipython",
    "version": 3
   },
   "file_extension": ".py",
   "mimetype": "text/x-python",
   "name": "python",
   "nbconvert_exporter": "python",
   "pygments_lexer": "ipython3",
   "version": "3.8.12"
  }
 },
 "nbformat": 4,
 "nbformat_minor": 5
}
